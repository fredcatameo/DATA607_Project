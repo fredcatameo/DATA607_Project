{
 "cells": [
  {
   "cell_type": "code",
   "execution_count": 18,
   "metadata": {},
   "outputs": [],
   "source": [
    "import pandas as pd\n",
    "from transformers import T5Tokenizer, T5ForConditionalGeneration\n",
    "from tqdm.notebook import tqdm\n",
    "import torch"
   ]
  },
  {
   "cell_type": "code",
   "execution_count": 7,
   "metadata": {},
   "outputs": [],
   "source": [
    "device = torch.device(\"cuda\" if torch.cuda.is_available() else \"cpu\")\n",
    "print(f\"Using device: {device}\")\n",
    "\n",
    "# load model and tokenizer\n",
    "model_path = \"/content/drive/MyDrive/t5_AirlineReviews_summary_model\"\n",
    "model = T5ForConditionalGeneration.from_pretrained(model_path).to(device)\n",
    "tokenizer = T5Tokenizer.from_pretrained(model_path)\n",
    "\n",
    "def summarize_batch(reviews, max_input_length=512, max_output_length=64):\n",
    "    input_texts = [\"summarize: \" + review for review in reviews]\n",
    "    \n",
    "    # batch tokenize\n",
    "    inputs = tokenizer(\n",
    "        input_texts,\n",
    "        return_tensors=\"pt\",\n",
    "        truncation=True,\n",
    "        padding=True,\n",
    "        max_length=max_input_length\n",
    "    ).to(device)\n",
    "\n",
    "    # batch to summries\n",
    "    with torch.no_grad():\n",
    "        output_ids = model.generate(\n",
    "            input_ids=inputs[\"input_ids\"],\n",
    "            attention_mask=inputs[\"attention_mask\"],\n",
    "            max_length=max_output_length,\n",
    "            num_beams=4,\n",
    "            early_stopping=True\n",
    "        )\n",
    "\n",
    "        # 解碼結果\n",
    "    summaries = [tokenizer.decode(ids, skip_special_tokens=True) for ids in output_ids]\n",
    "    return summaries"
   ]
  },
  {
   "cell_type": "code",
   "execution_count": 13,
   "metadata": {},
   "outputs": [
    {
     "data": {
      "text/html": [
       "<div>\n",
       "<style scoped>\n",
       "    .dataframe tbody tr th:only-of-type {\n",
       "        vertical-align: middle;\n",
       "    }\n",
       "\n",
       "    .dataframe tbody tr th {\n",
       "        vertical-align: top;\n",
       "    }\n",
       "\n",
       "    .dataframe thead th {\n",
       "        text-align: right;\n",
       "    }\n",
       "</style>\n",
       "<table border=\"1\" class=\"dataframe\">\n",
       "  <thead>\n",
       "    <tr style=\"text-align: right;\">\n",
       "      <th></th>\n",
       "      <th>RowId</th>\n",
       "      <th>Review</th>\n",
       "    </tr>\n",
       "  </thead>\n",
       "  <tbody>\n",
       "    <tr>\n",
       "      <th>0</th>\n",
       "      <td>0</td>\n",
       "      <td>Moroni to Moheli. Turned out to be a pretty ...</td>\n",
       "    </tr>\n",
       "    <tr>\n",
       "      <th>1</th>\n",
       "      <td>1</td>\n",
       "      <td>Moroni to Anjouan. It is a very small airline...</td>\n",
       "    </tr>\n",
       "    <tr>\n",
       "      <th>2</th>\n",
       "      <td>2</td>\n",
       "      <td>Anjouan to Dzaoudzi. A very small airline an...</td>\n",
       "    </tr>\n",
       "    <tr>\n",
       "      <th>3</th>\n",
       "      <td>3</td>\n",
       "      <td>Please do a favor yourself and do not fly wi...</td>\n",
       "    </tr>\n",
       "    <tr>\n",
       "      <th>4</th>\n",
       "      <td>4</td>\n",
       "      <td>Do not book a flight with this airline! My fr...</td>\n",
       "    </tr>\n",
       "    <tr>\n",
       "      <th>...</th>\n",
       "      <td>...</td>\n",
       "      <td>...</td>\n",
       "    </tr>\n",
       "    <tr>\n",
       "      <th>24349</th>\n",
       "      <td>24349</td>\n",
       "      <td>Bangkok to Tokyo. I’ve flown many low cost ai...</td>\n",
       "    </tr>\n",
       "    <tr>\n",
       "      <th>24350</th>\n",
       "      <td>24350</td>\n",
       "      <td>Avoid at all costs. I booked flights to go f...</td>\n",
       "    </tr>\n",
       "    <tr>\n",
       "      <th>24351</th>\n",
       "      <td>24351</td>\n",
       "      <td>Flight was leaving at 23.15 and after an hou...</td>\n",
       "    </tr>\n",
       "    <tr>\n",
       "      <th>24352</th>\n",
       "      <td>24352</td>\n",
       "      <td>Zipair is JAL’s budget airline. They don’t ha...</td>\n",
       "    </tr>\n",
       "    <tr>\n",
       "      <th>24353</th>\n",
       "      <td>24353</td>\n",
       "      <td>They lied about connection in Narita and we ...</td>\n",
       "    </tr>\n",
       "  </tbody>\n",
       "</table>\n",
       "<p>24354 rows × 2 columns</p>\n",
       "</div>"
      ],
      "text/plain": [
       "       RowId                                             Review\n",
       "0          0    Moroni to Moheli. Turned out to be a pretty ...\n",
       "1          1   Moroni to Anjouan. It is a very small airline...\n",
       "2          2    Anjouan to Dzaoudzi. A very small airline an...\n",
       "3          3    Please do a favor yourself and do not fly wi...\n",
       "4          4   Do not book a flight with this airline! My fr...\n",
       "...      ...                                                ...\n",
       "24349  24349   Bangkok to Tokyo. I’ve flown many low cost ai...\n",
       "24350  24350    Avoid at all costs. I booked flights to go f...\n",
       "24351  24351    Flight was leaving at 23.15 and after an hou...\n",
       "24352  24352   Zipair is JAL’s budget airline. They don’t ha...\n",
       "24353  24353    They lied about connection in Narita and we ...\n",
       "\n",
       "[24354 rows x 2 columns]"
      ]
     },
     "execution_count": 13,
     "metadata": {},
     "output_type": "execute_result"
    }
   ],
   "source": [
    "data = pd.read_csv('../data/silver_20250322_Airline_Reviews_Corrected_WithSentimentImageLabels.csv')\n",
    "X = data[['RowId','Review']]\n",
    "X"
   ]
  },
  {
   "cell_type": "code",
   "execution_count": 19,
   "metadata": {},
   "outputs": [
    {
     "data": {
      "application/vnd.jupyter.widget-view+json": {
       "model_id": "7f7c999a2aac421ba655f35ca218f941",
       "version_major": 2,
       "version_minor": 0
      },
      "text/plain": [
       "  0%|          | 0/2 [00:00<?, ?it/s]"
      ]
     },
     "metadata": {},
     "output_type": "display_data"
    },
    {
     "name": "stdout",
     "output_type": "stream",
     "text": [
      "Processed reviews 0 to 9\n",
      "Processed reviews 10 to 19\n"
     ]
    }
   ],
   "source": [
    "batch_size = 64\n",
    "summaries = []\n",
    "\n",
    "for i in tqdm(range(0, len(X), batch_size)):\n",
    "    batch_end = min(i + batch_size, len(X))\n",
    "    batch_reviews = X['Review'].iloc[i:batch_end].tolist()\n",
    "\n",
    "    try:\n",
    "        batch_summaries = summarize_batch(batch_reviews)\n",
    "        summaries.extend(batch_summaries)\n",
    "    except RuntimeError as e:\n",
    "        print(f\"Error processing batch {i} to {batch_end-1}: {e}\")\n",
    "        if \"out of memory\" in str(e):\n",
    "            print(\"GPU memory exceeded. Reducing batch size or clearing memory...\")\n",
    "            torch.cuda.empty_cache()  # clean GPU memory\n",
    "            batch_size = max(batch_size // 2, 1)  # dynamic reduce batch size\n",
    "            batch_summaries = [\"Error: OOM\"] * len(batch_reviews)\n",
    "            summaries.extend(batch_summaries)\n",
    "        else:\n",
    "            summaries.extend([\"Error generating summary\"] * len(batch_reviews))\n",
    "\n",
    "    print(f\"Processed reviews {i} to {batch_end-1}\")"
   ]
  },
  {
   "cell_type": "code",
   "execution_count": null,
   "metadata": {},
   "outputs": [],
   "source": [
    "\n",
    "# Add summaries to the dataframe\n",
    "data['Summary'] = summaries\n",
    "data.head()\n",
    "data.to_csv('Gold_20250327_AirlineReviews_Sentiment_Image_Summary.csv', index=False)"
   ]
  }
 ],
 "metadata": {
  "kernelspec": {
   "display_name": "DATA607_Project",
   "language": "python",
   "name": "python3"
  },
  "language_info": {
   "codemirror_mode": {
    "name": "ipython",
    "version": 3
   },
   "file_extension": ".py",
   "mimetype": "text/x-python",
   "name": "python",
   "nbconvert_exporter": "python",
   "pygments_lexer": "ipython3",
   "version": "3.13.2"
  }
 },
 "nbformat": 4,
 "nbformat_minor": 2
}
