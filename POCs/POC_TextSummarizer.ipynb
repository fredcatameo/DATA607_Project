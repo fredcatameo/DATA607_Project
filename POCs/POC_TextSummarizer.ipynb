{
 "cells": [
  {
   "cell_type": "code",
   "execution_count": null,
   "id": "d44b1e6a-c88e-467a-9ca3-607bc8523cbb",
   "metadata": {},
   "outputs": [],
   "source": [
    "import pandas as pd\n",
    "import numpy as np\n",
    "import psycopg2\n",
    "from sqlalchemy import create_engine"
   ]
  },
  {
   "cell_type": "code",
   "execution_count": null,
   "id": "0ec717f7-73ff-49c4-83ae-27c96616e1a2",
   "metadata": {},
   "outputs": [],
   "source": [
    "from transformers import pipeline\n",
    "\n",
    "# Load a pre-trained summarization pipeline\n",
    "summarizer = pipeline(\"summarization\", model=\"facebook/bart-large-cnn\")\n",
    "\n",
    "# Your text data\n",
    "text = \"\"\"\n",
    "Machine learning is a method of data analysis that automates analytical model building. \n",
    "It is a branch of artificial intelligence based on the idea that systems can learn from data, \n",
    "identify patterns, and make decisions with minimal human intervention.\n",
    "\"\"\"\n",
    "\n",
    "# Summarize the text\n",
    "summary = summarizer(text, max_length=50, min_length=25, do_sample=False)\n",
    "print(\"Summary:\", summary[0]['summary_text'])"
   ]
  },
  {
   "cell_type": "code",
   "execution_count": 8,
   "id": "e29bea7a-7693-446f-83c0-b7440560f759",
   "metadata": {
    "execution": {
     "iopub.execute_input": "2025-03-19T14:58:31.369700Z",
     "iopub.status.busy": "2025-03-19T14:58:31.369125Z",
     "iopub.status.idle": "2025-03-19T14:58:39.463166Z",
     "shell.execute_reply": "2025-03-19T14:58:39.462820Z",
     "shell.execute_reply.started": "2025-03-19T14:58:31.369673Z"
    }
   },
   "outputs": [
    {
     "name": "stderr",
     "output_type": "stream",
     "text": [
      "Device set to use mps:0\n"
     ]
    },
    {
     "name": "stdout",
     "output_type": "stream",
     "text": [
      "Short Summary: The flight/booking went to Amsterdam, then Mexico CIty, then to Toronto\n",
      "Summary: The flight/booking went to Amsterdam, then Mexico CIty, then to Toronto. The flights themselves were alright, and I'd even like compliment their flight staff. Upon arriving in Mexico City it was apparent my luggage never made it\n"
     ]
    }
   ],
   "source": [
    "from transformers import pipeline\n",
    "\n",
    "# Load a pre-trained summarization pipeline\n",
    "summarizer = pipeline(\"summarization\", model=\"facebook/bart-large-cnn\")\n",
    "\n",
    "# Your input text\n",
    "text = \"\"\"\n",
    "¬†¬†Lost Luggage I booked a flight from Shanghai, China, to Toronto, Canada. The flight/booking went to Amsterdam, then Mexico CIty, then to Toronto. I flew KLM to Amsterdam and then Mexico City. The flights themselves were alright, and I'd even like compliment their flight staff. Upon arriving in Mexico City it was apparent my luggage never made it. I have no reason to believe Mexico City airport lost it as everyone else's luggage was there, although Mexico City airport was exceptionally unhelpful, but that's another story. Afterwards I contacted KLM customer service, and despite all evidence supporting they lost it as it never made it to Mexico, they said I had to file the lost luggae claim through aeromexico as they were the last flight of the booking and there's nothing they can do. Aeromexico said they won't and to contact KLM. Now to be clear aeromexico was even more unhelpful as they sent me from customer service rep to customer service rep, finally saying I have to email, which I have yet to get a response from. However, as bad as they are, they didn't lose my luggge. KLM clearly did, and so I have 2 airlines telling me to contact the other one, when it's very obvious which one lost one, but in the end KLM's response is \"due to regulations\" they can't trace my luggage that they lost and I'm essentially out of luck. Essentially \"Yea we lost your luggage but we can't technically help you.\" Regulations or not, I can't say that's satisfactory customer service. I paid for the flight, gave them luggage trusting them to deliver it. They did not. They lost my luggage, and are doing nothing about it. That's it.\n",
    "\"\"\"\n",
    "\n",
    "# Generate a shorter summary with specific length constraints\n",
    "short_summary = summarizer(\n",
    "    text, \n",
    "    max_length=20,  # Maximum length of the summary\n",
    "    min_length=10,  # Minimum length of the summary\n",
    "    do_sample=False # Disable randomness for more deterministic output\n",
    ")\n",
    "\n",
    "# Print the summarized text\n",
    "print(\"Short Summary:\", short_summary[0]['summary_text'])\n",
    "\n",
    "\n",
    "summary = summarizer(text, max_length=50, min_length=25, do_sample=False)\n",
    "print(\"Summary:\", summary[0]['summary_text'])"
   ]
  },
  {
   "cell_type": "code",
   "execution_count": null,
   "id": "0422fc8b-abc2-42c3-8fda-2a38efe32b8f",
   "metadata": {},
   "outputs": [],
   "source": []
  }
 ],
 "metadata": {
  "kernelspec": {
   "display_name": "Python [conda env:base] *",
   "language": "python",
   "name": "conda-base-py"
  },
  "language_info": {
   "codemirror_mode": {
    "name": "ipython",
    "version": 3
   },
   "file_extension": ".py",
   "mimetype": "text/x-python",
   "name": "python",
   "nbconvert_exporter": "python",
   "pygments_lexer": "ipython3",
   "version": "3.12.7"
  }
 },
 "nbformat": 4,
 "nbformat_minor": 5
}
