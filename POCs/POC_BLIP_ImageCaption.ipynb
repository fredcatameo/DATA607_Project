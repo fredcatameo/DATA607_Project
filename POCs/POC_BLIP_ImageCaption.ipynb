{
 "cells": [
  {
   "cell_type": "code",
   "execution_count": 7,
   "id": "6832f1e5-6eaf-4a44-a075-714754628083",
   "metadata": {
    "execution": {
     "iopub.execute_input": "2025-03-23T03:10:50.109229Z",
     "iopub.status.busy": "2025-03-23T03:10:50.108488Z",
     "iopub.status.idle": "2025-03-23T03:10:59.761538Z",
     "shell.execute_reply": "2025-03-23T03:10:59.760878Z",
     "shell.execute_reply.started": "2025-03-23T03:10:50.109180Z"
    }
   },
   "outputs": [
    {
     "name": "stdout",
     "output_type": "stream",
     "text": [
      "Generated caption: a large airplane sitting on top of an airport tar\n"
     ]
    }
   ],
   "source": [
    "from transformers import BlipProcessor, BlipForConditionalGeneration\n",
    "from PIL import Image\n",
    "import requests\n",
    "import torch\n",
    "# Load the model and processor\n",
    "processor = BlipProcessor.from_pretrained(\"Salesforce/blip-image-captioning-base\")\n",
    "model = BlipForConditionalGeneration.from_pretrained(\"Salesforce/blip-image-captioning-base\")\n",
    "# Load an image from URL\n",
    "url = \"https://www.airlinequality.com/wp-content/uploads/2024/03/IMG_1475-500x500.jpeg\"  # Replace with your image URL\n",
    "image = Image.open(requests.get(url, stream=True).raw)\n",
    "# Generate caption\n",
    "inputs = processor(images=image, return_tensors=\"pt\")\n",
    "with torch.no_grad():\n",
    "    outputs = model.generate(**inputs)\n",
    "caption = processor.decode(outputs[0], skip_special_tokens=True)\n",
    "print(f\"Generated caption: {caption}\")"
   ]
  },
  {
   "cell_type": "code",
   "execution_count": null,
   "id": "7e824bb6-633b-4a37-bcc4-e6899e556466",
   "metadata": {},
   "outputs": [],
   "source": []
  }
 ],
 "metadata": {
  "kernelspec": {
   "display_name": "Python [conda env:base] *",
   "language": "python",
   "name": "conda-base-py"
  },
  "language_info": {
   "codemirror_mode": {
    "name": "ipython",
    "version": 3
   },
   "file_extension": ".py",
   "mimetype": "text/x-python",
   "name": "python",
   "nbconvert_exporter": "python",
   "pygments_lexer": "ipython3",
   "version": "3.12.7"
  }
 },
 "nbformat": 4,
 "nbformat_minor": 5
}
