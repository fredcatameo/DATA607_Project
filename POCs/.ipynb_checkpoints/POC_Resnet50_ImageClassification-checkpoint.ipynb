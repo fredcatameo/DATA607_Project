{
 "cells": [
  {
   "cell_type": "code",
   "execution_count": 3,
   "id": "18a0b33b-066b-4893-9497-38348915925b",
   "metadata": {
    "execution": {
     "iopub.execute_input": "2025-03-23T17:53:40.146662Z",
     "iopub.status.busy": "2025-03-23T17:53:40.146521Z",
     "iopub.status.idle": "2025-03-23T17:53:40.928658Z",
     "shell.execute_reply": "2025-03-23T17:53:40.928447Z",
     "shell.execute_reply.started": "2025-03-23T17:53:40.146652Z"
    }
   },
   "outputs": [],
   "source": [
    "import requests\n",
    "from io import BytesIO\n",
    "from PIL import Image\n",
    "\n",
    "import numpy as np\n",
    "from matplotlib import pyplot as plt\n",
    "\n",
    "import torch\n",
    "import torchvision.transforms as transforms\n",
    "from torchvision import models"
   ]
  },
  {
   "cell_type": "code",
   "execution_count": 5,
   "id": "b28a425b-50ce-4fe2-9333-fc267065ba60",
   "metadata": {
    "execution": {
     "iopub.execute_input": "2025-03-23T17:53:41.715359Z",
     "iopub.status.busy": "2025-03-23T17:53:41.714737Z",
     "iopub.status.idle": "2025-03-23T17:53:43.021633Z",
     "shell.execute_reply": "2025-03-23T17:53:43.021347Z",
     "shell.execute_reply.started": "2025-03-23T17:53:41.715313Z"
    }
   },
   "outputs": [],
   "source": [
    "# Load the ResNet50 model (pretrained on ImageNet)\n",
    "# ~25.6 million parameters\n",
    "# He et al. (2015), \"Deep Residual Learning for Image Recognition\", https://arxiv.org/abs/1512.03385\n",
    "model = models.resnet50(weights=\"IMAGENET1K_V2\")\n",
    "model.eval()  # Set to evaluation mode\n",
    "\n",
    "# Get an image from the internet\n",
    "response = requests.get(\"https://www.airlinequality.com/wp-content/uploads/2024/03/IMG_1475-500x500.jpeg\")\n",
    "img = Image.open(BytesIO(response.content))\n",
    "\n",
    "# Define transformation to match ResNet50's expected input\n",
    "transform = transforms.Compose([\n",
    "    transforms.Resize((224, 224)),\n",
    "    transforms.ToTensor(),\n",
    "    transforms.Normalize(mean=[0.485, 0.456, 0.406], std=[0.229, 0.224, 0.225])\n",
    "])\n",
    "\n",
    "# Apply transformation\n",
    "x = transform(img).unsqueeze(0)  # Add batch dimension\n",
    "\n",
    "# Run the image through the model\n",
    "y_hat = model(x)\n"
   ]
  },
  {
   "cell_type": "code",
   "execution_count": 6,
   "id": "269d93a2-8d2c-4900-8dd8-010347903f7e",
   "metadata": {
    "execution": {
     "iopub.execute_input": "2025-03-23T17:53:43.039935Z",
     "iopub.status.busy": "2025-03-23T17:53:43.039872Z",
     "iopub.status.idle": "2025-03-23T17:53:43.045410Z",
     "shell.execute_reply": "2025-03-23T17:53:43.045163Z",
     "shell.execute_reply.started": "2025-03-23T17:53:43.039929Z"
    }
   },
   "outputs": [
    {
     "name": "stdout",
     "output_type": "stream",
     "text": [
      "[404 908 368 895 745]\n",
      "[7.0693884 4.7016892 2.1308782 1.6017052 1.5412313]\n"
     ]
    }
   ],
   "source": [
    "y_hat = y_hat.detach().numpy().squeeze()\n",
    "I = y_hat.argsort()[::-1]\n",
    "print(I[:5])\n",
    "print(y_hat[I[:5]])"
   ]
  },
  {
   "cell_type": "code",
   "execution_count": 9,
   "id": "7f5deb18-5480-464e-be18-f22b9809704e",
   "metadata": {
    "execution": {
     "iopub.execute_input": "2025-03-23T17:53:44.754969Z",
     "iopub.status.busy": "2025-03-23T17:53:44.754463Z",
     "iopub.status.idle": "2025-03-23T17:53:45.189618Z",
     "shell.execute_reply": "2025-03-23T17:53:45.188667Z",
     "shell.execute_reply.started": "2025-03-23T17:53:44.754935Z"
    }
   },
   "outputs": [],
   "source": [
    "classes = (requests\n",
    "           .get(\"https://raw.githubusercontent.com/anishathalye/imagenet-simple-labels/master/imagenet-simple-labels.json\")\n",
    "           .json())\n",
    "classes = np.array(classes)"
   ]
  },
  {
   "cell_type": "code",
   "execution_count": 11,
   "id": "66b09f2b-8b0c-438f-bb6f-2b5e70254212",
   "metadata": {
    "execution": {
     "iopub.execute_input": "2025-03-23T17:53:46.048460Z",
     "iopub.status.busy": "2025-03-23T17:53:46.047962Z",
     "iopub.status.idle": "2025-03-23T17:53:46.057206Z",
     "shell.execute_reply": "2025-03-23T17:53:46.056419Z",
     "shell.execute_reply.started": "2025-03-23T17:53:46.048419Z"
    }
   },
   "outputs": [
    {
     "data": {
      "text/plain": [
       "array(['airliner', 'wing', 'gibbon', 'military aircraft', 'projector'],\n",
       "      dtype='<U32')"
      ]
     },
     "execution_count": 11,
     "metadata": {},
     "output_type": "execute_result"
    }
   ],
   "source": [
    "classes[I[:5]]"
   ]
  },
  {
   "cell_type": "code",
   "execution_count": null,
   "id": "e3efd5e9-bcf9-464b-80fc-9a22856c8751",
   "metadata": {},
   "outputs": [],
   "source": []
  }
 ],
 "metadata": {
  "kernelspec": {
   "display_name": "Python [conda env:base] *",
   "language": "python",
   "name": "conda-base-py"
  },
  "language_info": {
   "codemirror_mode": {
    "name": "ipython",
    "version": 3
   },
   "file_extension": ".py",
   "mimetype": "text/x-python",
   "name": "python",
   "nbconvert_exporter": "python",
   "pygments_lexer": "ipython3",
   "version": "3.12.7"
  }
 },
 "nbformat": 4,
 "nbformat_minor": 5
}
