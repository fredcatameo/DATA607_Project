{
 "cells": [
  {
   "cell_type": "code",
   "execution_count": 9,
   "metadata": {
    "execution": {
     "iopub.execute_input": "2025-03-28T19:46:14.019854Z",
     "iopub.status.busy": "2025-03-28T19:46:14.019358Z",
     "iopub.status.idle": "2025-03-28T19:46:14.047639Z",
     "shell.execute_reply": "2025-03-28T19:46:14.047270Z",
     "shell.execute_reply.started": "2025-03-28T19:46:14.019821Z"
    }
   },
   "outputs": [],
   "source": [
    "import os\n",
    "import pandas as pd\n",
    "from tqdm.notebook import tqdm\n",
    "from datetime import datetime"
   ]
  },
  {
   "cell_type": "code",
   "execution_count": 69,
   "metadata": {
    "execution": {
     "iopub.execute_input": "2025-03-29T01:36:26.333287Z",
     "iopub.status.busy": "2025-03-29T01:36:26.332699Z",
     "iopub.status.idle": "2025-03-29T01:36:26.342872Z",
     "shell.execute_reply": "2025-03-29T01:36:26.342130Z",
     "shell.execute_reply.started": "2025-03-29T01:36:26.333251Z"
    }
   },
   "outputs": [],
   "source": [
    "#Get ETL_DATE for Incremental Ingestion (enabled if ETL_DATE set to 'CURRENT_DATE')\n",
    "from dotenv import load_dotenv\n",
    "from pathlib import Path\n",
    "import os\n",
    "\n",
    "dotenv_path = Path('db_credentials.env')\n",
    "load_dotenv(dotenv_path=dotenv_path)\n",
    "\n",
    "ETL_DATE = os.getenv('ETL_DATE')"
   ]
  },
  {
   "cell_type": "code",
   "execution_count": 71,
   "metadata": {
    "execution": {
     "iopub.execute_input": "2025-03-29T01:36:28.537526Z",
     "iopub.status.busy": "2025-03-29T01:36:28.536747Z",
     "iopub.status.idle": "2025-03-29T01:36:28.543204Z",
     "shell.execute_reply": "2025-03-29T01:36:28.542508Z",
     "shell.execute_reply.started": "2025-03-29T01:36:28.537494Z"
    }
   },
   "outputs": [
    {
     "name": "stdout",
     "output_type": "stream",
     "text": [
      "20250328\n"
     ]
    }
   ],
   "source": [
    "# For Incremental Ingestion (enabled if ETL_DATE set to 'CURRENT_DATE')\n",
    "if ETL_DATE == 'CURRENT_DATE':\n",
    "    ETL_DATE = datetime.today().strftime('%Y%m%d')\n",
    "else:\n",
    "   ETL_DATE = '20250322'\n",
    "    \n",
    "print(ETL_DATE)"
   ]
  },
  {
   "cell_type": "code",
   "execution_count": 44,
   "metadata": {
    "execution": {
     "iopub.execute_input": "2025-03-29T01:30:27.161511Z",
     "iopub.status.busy": "2025-03-29T01:30:27.160887Z",
     "iopub.status.idle": "2025-03-29T01:30:27.188379Z",
     "shell.execute_reply": "2025-03-29T01:30:27.187771Z",
     "shell.execute_reply.started": "2025-03-29T01:30:27.161468Z"
    }
   },
   "outputs": [
    {
     "data": {
      "text/plain": [
       "(52, 22)"
      ]
     },
     "execution_count": 44,
     "metadata": {},
     "output_type": "execute_result"
    }
   ],
   "source": [
    "data = pd.read_csv(f\"data/silver_{ETL_DATE}_Airline_Reviews_Preprocessed.csv\")\n",
    "data.shape"
   ]
  },
  {
   "cell_type": "code",
   "execution_count": 48,
   "metadata": {
    "execution": {
     "iopub.execute_input": "2025-03-29T01:30:37.411321Z",
     "iopub.status.busy": "2025-03-29T01:30:37.410687Z",
     "iopub.status.idle": "2025-03-29T01:30:37.431752Z",
     "shell.execute_reply": "2025-03-29T01:30:37.431426Z",
     "shell.execute_reply.started": "2025-03-29T01:30:37.411275Z"
    }
   },
   "outputs": [
    {
     "name": "stdout",
     "output_type": "stream",
     "text": [
      "52\n"
     ]
    },
    {
     "data": {
      "text/html": [
       "<div>\n",
       "<style scoped>\n",
       "    .dataframe tbody tr th:only-of-type {\n",
       "        vertical-align: middle;\n",
       "    }\n",
       "\n",
       "    .dataframe tbody tr th {\n",
       "        vertical-align: top;\n",
       "    }\n",
       "\n",
       "    .dataframe thead th {\n",
       "        text-align: right;\n",
       "    }\n",
       "</style>\n",
       "<table border=\"1\" class=\"dataframe\">\n",
       "  <thead>\n",
       "    <tr style=\"text-align: right;\">\n",
       "      <th></th>\n",
       "      <th>RowId</th>\n",
       "      <th>Airline Name</th>\n",
       "      <th>Overall_Rating</th>\n",
       "      <th>Review_Title</th>\n",
       "      <th>Review Date</th>\n",
       "      <th>Verified</th>\n",
       "      <th>Review</th>\n",
       "      <th>Top Review Image Url</th>\n",
       "      <th>Aircraft</th>\n",
       "      <th>Type Of Traveller</th>\n",
       "      <th>...</th>\n",
       "      <th>Date Flown</th>\n",
       "      <th>Seat Comfort</th>\n",
       "      <th>Cabin Staff Service</th>\n",
       "      <th>Food &amp; Beverages</th>\n",
       "      <th>Ground Service</th>\n",
       "      <th>Inflight Entertainment</th>\n",
       "      <th>Wifi &amp; Connectivity</th>\n",
       "      <th>Value For Money</th>\n",
       "      <th>Recommended</th>\n",
       "      <th>Id</th>\n",
       "    </tr>\n",
       "  </thead>\n",
       "  <tbody>\n",
       "    <tr>\n",
       "      <th>0</th>\n",
       "      <td>0</td>\n",
       "      <td>Aer Lingus</td>\n",
       "      <td>2.0</td>\n",
       "      <td>“terrible customer service”</td>\n",
       "      <td>2025-03-26</td>\n",
       "      <td>False</td>\n",
       "      <td>Absolutely terrible customer service. Tried t...</td>\n",
       "      <td>NaN</td>\n",
       "      <td>NaN</td>\n",
       "      <td>Couple Leisure</td>\n",
       "      <td>...</td>\n",
       "      <td>2025-03-01</td>\n",
       "      <td>2.0</td>\n",
       "      <td>3.0</td>\n",
       "      <td>3.0</td>\n",
       "      <td>1.0</td>\n",
       "      <td>NaN</td>\n",
       "      <td>3.0</td>\n",
       "      <td>1</td>\n",
       "      <td>no</td>\n",
       "      <td>661172569262a3a1c15d87e9459a0fefc8664914266518...</td>\n",
       "    </tr>\n",
       "    <tr>\n",
       "      <th>1</th>\n",
       "      <td>1</td>\n",
       "      <td>Air France</td>\n",
       "      <td>10.0</td>\n",
       "      <td>\"excellent customer service\"</td>\n",
       "      <td>2025-03-28</td>\n",
       "      <td>True</td>\n",
       "      <td>My son was travelling on Kids Solo as an un...</td>\n",
       "      <td>NaN</td>\n",
       "      <td>NaN</td>\n",
       "      <td>Family Leisure</td>\n",
       "      <td>...</td>\n",
       "      <td>2025-03-01</td>\n",
       "      <td>NaN</td>\n",
       "      <td>NaN</td>\n",
       "      <td>NaN</td>\n",
       "      <td>5.0</td>\n",
       "      <td>NaN</td>\n",
       "      <td>NaN</td>\n",
       "      <td>5</td>\n",
       "      <td>yes</td>\n",
       "      <td>925fcfda402034e92b439424f9eb35bec83154e497e641...</td>\n",
       "    </tr>\n",
       "    <tr>\n",
       "      <th>2</th>\n",
       "      <td>2</td>\n",
       "      <td>Air India</td>\n",
       "      <td>3.0</td>\n",
       "      <td>“it was not a pleasant experience”</td>\n",
       "      <td>2025-03-26</td>\n",
       "      <td>False</td>\n",
       "      <td>Recently travelled on Air India flight from T...</td>\n",
       "      <td>NaN</td>\n",
       "      <td>NaN</td>\n",
       "      <td>Family Leisure</td>\n",
       "      <td>...</td>\n",
       "      <td>2025-03-01</td>\n",
       "      <td>1.0</td>\n",
       "      <td>3.0</td>\n",
       "      <td>1.0</td>\n",
       "      <td>4.0</td>\n",
       "      <td>1.0</td>\n",
       "      <td>1.0</td>\n",
       "      <td>1</td>\n",
       "      <td>no</td>\n",
       "      <td>c09a8175ab7eda10f0fddbbdc6227c44836d964901af2c...</td>\n",
       "    </tr>\n",
       "    <tr>\n",
       "      <th>3</th>\n",
       "      <td>3</td>\n",
       "      <td>Air India Express</td>\n",
       "      <td>1.0</td>\n",
       "      <td>\"not accountable for any damage\"</td>\n",
       "      <td>2025-03-23</td>\n",
       "      <td>True</td>\n",
       "      <td>No proper communication and very casual app...</td>\n",
       "      <td>https://www.airlinequality.com/wp-content/uplo...</td>\n",
       "      <td>NaN</td>\n",
       "      <td>Family Leisure</td>\n",
       "      <td>...</td>\n",
       "      <td>2025-03-01</td>\n",
       "      <td>1.0</td>\n",
       "      <td>1.0</td>\n",
       "      <td>1.0</td>\n",
       "      <td>1.0</td>\n",
       "      <td>1.0</td>\n",
       "      <td>1.0</td>\n",
       "      <td>1</td>\n",
       "      <td>no</td>\n",
       "      <td>455e41f45426cc1ebd206caba0945f054613394cb208c5...</td>\n",
       "    </tr>\n",
       "    <tr>\n",
       "      <th>4</th>\n",
       "      <td>4</td>\n",
       "      <td>AirAsia X</td>\n",
       "      <td>2.0</td>\n",
       "      <td>\"flight is delay for 20 hours\"</td>\n",
       "      <td>2025-03-24</td>\n",
       "      <td>True</td>\n",
       "      <td>Worse experience, my flight suppose to depa...</td>\n",
       "      <td>NaN</td>\n",
       "      <td>NaN</td>\n",
       "      <td>Business</td>\n",
       "      <td>...</td>\n",
       "      <td>2025-03-01</td>\n",
       "      <td>1.0</td>\n",
       "      <td>1.0</td>\n",
       "      <td>1.0</td>\n",
       "      <td>1.0</td>\n",
       "      <td>NaN</td>\n",
       "      <td>NaN</td>\n",
       "      <td>1</td>\n",
       "      <td>no</td>\n",
       "      <td>a13ee7a23ddc22c11deadf130dbe3b23384427e2fd5e01...</td>\n",
       "    </tr>\n",
       "  </tbody>\n",
       "</table>\n",
       "<p>5 rows × 22 columns</p>\n",
       "</div>"
      ],
      "text/plain": [
       "   RowId       Airline Name  Overall_Rating  \\\n",
       "0      0         Aer Lingus             2.0   \n",
       "1      1         Air France            10.0   \n",
       "2      2          Air India             3.0   \n",
       "3      3  Air India Express             1.0   \n",
       "4      4          AirAsia X             2.0   \n",
       "\n",
       "                         Review_Title Review Date  Verified  \\\n",
       "0         “terrible customer service”  2025-03-26     False   \n",
       "1        \"excellent customer service\"  2025-03-28      True   \n",
       "2  “it was not a pleasant experience”  2025-03-26     False   \n",
       "3    \"not accountable for any damage\"  2025-03-23      True   \n",
       "4      \"flight is delay for 20 hours\"  2025-03-24      True   \n",
       "\n",
       "                                              Review  \\\n",
       "0   Absolutely terrible customer service. Tried t...   \n",
       "1     My son was travelling on Kids Solo as an un...   \n",
       "2   Recently travelled on Air India flight from T...   \n",
       "3     No proper communication and very casual app...   \n",
       "4     Worse experience, my flight suppose to depa...   \n",
       "\n",
       "                                Top Review Image Url Aircraft  \\\n",
       "0                                                NaN      NaN   \n",
       "1                                                NaN      NaN   \n",
       "2                                                NaN      NaN   \n",
       "3  https://www.airlinequality.com/wp-content/uplo...      NaN   \n",
       "4                                                NaN      NaN   \n",
       "\n",
       "  Type Of Traveller  ...  Date Flown Seat Comfort Cabin Staff Service  \\\n",
       "0    Couple Leisure  ...  2025-03-01          2.0                 3.0   \n",
       "1    Family Leisure  ...  2025-03-01          NaN                 NaN   \n",
       "2    Family Leisure  ...  2025-03-01          1.0                 3.0   \n",
       "3    Family Leisure  ...  2025-03-01          1.0                 1.0   \n",
       "4          Business  ...  2025-03-01          1.0                 1.0   \n",
       "\n",
       "   Food & Beverages  Ground Service  Inflight Entertainment  \\\n",
       "0               3.0             1.0                     NaN   \n",
       "1               NaN             5.0                     NaN   \n",
       "2               1.0             4.0                     1.0   \n",
       "3               1.0             1.0                     1.0   \n",
       "4               1.0             1.0                     NaN   \n",
       "\n",
       "   Wifi & Connectivity  Value For Money  Recommended  \\\n",
       "0                  3.0                1           no   \n",
       "1                  NaN                5          yes   \n",
       "2                  1.0                1           no   \n",
       "3                  1.0                1           no   \n",
       "4                  NaN                1           no   \n",
       "\n",
       "                                                  Id  \n",
       "0  661172569262a3a1c15d87e9459a0fefc8664914266518...  \n",
       "1  925fcfda402034e92b439424f9eb35bec83154e497e641...  \n",
       "2  c09a8175ab7eda10f0fddbbdc6227c44836d964901af2c...  \n",
       "3  455e41f45426cc1ebd206caba0945f054613394cb208c5...  \n",
       "4  a13ee7a23ddc22c11deadf130dbe3b23384427e2fd5e01...  \n",
       "\n",
       "[5 rows x 22 columns]"
      ]
     },
     "execution_count": 48,
     "metadata": {},
     "output_type": "execute_result"
    }
   ],
   "source": [
    "print(len(data))\n",
    "data.head()"
   ]
  },
  {
   "cell_type": "markdown",
   "metadata": {},
   "source": [
    "### Hugging Face - cardiffnlp/twitter-roberta-base-sentiment-latest"
   ]
  },
  {
   "cell_type": "code",
   "execution_count": 51,
   "metadata": {
    "execution": {
     "iopub.execute_input": "2025-03-29T01:30:40.661505Z",
     "iopub.status.busy": "2025-03-29T01:30:40.661074Z",
     "iopub.status.idle": "2025-03-29T01:30:45.186665Z",
     "shell.execute_reply": "2025-03-29T01:30:45.186264Z",
     "shell.execute_reply.started": "2025-03-29T01:30:40.661472Z"
    }
   },
   "outputs": [
    {
     "name": "stderr",
     "output_type": "stream",
     "text": [
      "Some weights of the model checkpoint at cardiffnlp/twitter-roberta-base-sentiment-latest were not used when initializing RobertaForSequenceClassification: ['roberta.pooler.dense.bias', 'roberta.pooler.dense.weight']\n",
      "- This IS expected if you are initializing RobertaForSequenceClassification from the checkpoint of a model trained on another task or with another architecture (e.g. initializing a BertForSequenceClassification model from a BertForPreTraining model).\n",
      "- This IS NOT expected if you are initializing RobertaForSequenceClassification from the checkpoint of a model that you expect to be exactly identical (initializing a BertForSequenceClassification model from a BertForSequenceClassification model).\n",
      "Device set to use mps:0\n"
     ]
    },
    {
     "data": {
      "text/plain": [
       "[{'label': 'positive', 'score': 0.9614965319633484}]"
      ]
     },
     "execution_count": 51,
     "metadata": {},
     "output_type": "execute_result"
    }
   ],
   "source": [
    "from transformers import pipeline\n",
    "RBSL_PN_MODEL = pipeline(\"text-classification\", model=\"cardiffnlp/twitter-roberta-base-sentiment-latest\")\n",
    "RBSL_PN_MODEL('I am happy')"
   ]
  },
  {
   "cell_type": "code",
   "execution_count": 52,
   "metadata": {
    "execution": {
     "iopub.execute_input": "2025-03-29T01:30:45.399983Z",
     "iopub.status.busy": "2025-03-29T01:30:45.399910Z",
     "iopub.status.idle": "2025-03-29T01:30:54.985174Z",
     "shell.execute_reply": "2025-03-29T01:30:54.984943Z",
     "shell.execute_reply.started": "2025-03-29T01:30:45.399976Z"
    }
   },
   "outputs": [
    {
     "data": {
      "application/vnd.jupyter.widget-view+json": {
       "model_id": "64900c1107eb4a40913d5d4095ffd3bf",
       "version_major": 2,
       "version_minor": 0
      },
      "text/plain": [
       "Processing reviews:   0%|          | 0/2 [00:00<?, ?it/s]"
      ]
     },
     "metadata": {},
     "output_type": "display_data"
    }
   ],
   "source": [
    "\n",
    "# Make sure reviews are in the right format (list of strings)\n",
    "review_texts = data['Review'].fillna(\"\").astype(str).tolist()\n",
    "\n",
    "# Process in batches\n",
    "batch_size = 32\n",
    "all_results = []\n",
    "\n",
    "for i in tqdm(range(0, len(review_texts), batch_size), desc=\"Processing reviews\"):\n",
    "    batch = review_texts[i:i + batch_size]\n",
    "    try:\n",
    "        batch_results = RBSL_PN_MODEL(\n",
    "            batch,\n",
    "            truncation=True,\n",
    "            max_length=512\n",
    "        )\n",
    "        all_results.extend(batch_results)\n",
    "    except Exception as e:\n",
    "        print(f\"Error in batch {i}-{i+batch_size}: {e}\")\n",
    "        all_results.extend([{'label': 'ERROR', 'score': 0.0} for _ in batch])\n",
    "\n",
    "# Convert to DataFrame\n",
    "sentiments_df = pd.DataFrame(all_results)\n",
    "sentiments_df.columns = ['sentiment_label', 'sentiment_scores']"
   ]
  },
  {
   "cell_type": "code",
   "execution_count": 53,
   "metadata": {
    "execution": {
     "iopub.execute_input": "2025-03-29T01:30:54.986110Z",
     "iopub.status.busy": "2025-03-29T01:30:54.986035Z",
     "iopub.status.idle": "2025-03-29T01:30:54.988985Z",
     "shell.execute_reply": "2025-03-29T01:30:54.988812Z",
     "shell.execute_reply.started": "2025-03-29T01:30:54.986102Z"
    }
   },
   "outputs": [
    {
     "name": "stdout",
     "output_type": "stream",
     "text": [
      "52\n"
     ]
    },
    {
     "data": {
      "text/html": [
       "<div>\n",
       "<style scoped>\n",
       "    .dataframe tbody tr th:only-of-type {\n",
       "        vertical-align: middle;\n",
       "    }\n",
       "\n",
       "    .dataframe tbody tr th {\n",
       "        vertical-align: top;\n",
       "    }\n",
       "\n",
       "    .dataframe thead th {\n",
       "        text-align: right;\n",
       "    }\n",
       "</style>\n",
       "<table border=\"1\" class=\"dataframe\">\n",
       "  <thead>\n",
       "    <tr style=\"text-align: right;\">\n",
       "      <th></th>\n",
       "      <th>sentiment_label</th>\n",
       "      <th>sentiment_scores</th>\n",
       "    </tr>\n",
       "  </thead>\n",
       "  <tbody>\n",
       "    <tr>\n",
       "      <th>0</th>\n",
       "      <td>negative</td>\n",
       "      <td>0.948760</td>\n",
       "    </tr>\n",
       "    <tr>\n",
       "      <th>1</th>\n",
       "      <td>neutral</td>\n",
       "      <td>0.701676</td>\n",
       "    </tr>\n",
       "    <tr>\n",
       "      <th>2</th>\n",
       "      <td>negative</td>\n",
       "      <td>0.710657</td>\n",
       "    </tr>\n",
       "    <tr>\n",
       "      <th>3</th>\n",
       "      <td>negative</td>\n",
       "      <td>0.902924</td>\n",
       "    </tr>\n",
       "    <tr>\n",
       "      <th>4</th>\n",
       "      <td>negative</td>\n",
       "      <td>0.841998</td>\n",
       "    </tr>\n",
       "  </tbody>\n",
       "</table>\n",
       "</div>"
      ],
      "text/plain": [
       "  sentiment_label  sentiment_scores\n",
       "0        negative          0.948760\n",
       "1         neutral          0.701676\n",
       "2        negative          0.710657\n",
       "3        negative          0.902924\n",
       "4        negative          0.841998"
      ]
     },
     "execution_count": 53,
     "metadata": {},
     "output_type": "execute_result"
    }
   ],
   "source": [
    "print(len(sentiments_df))\n",
    "sentiments_df.head()"
   ]
  },
  {
   "cell_type": "markdown",
   "metadata": {},
   "source": [
    "#### Merge back review text labels to original dataframe"
   ]
  },
  {
   "cell_type": "code",
   "execution_count": 56,
   "metadata": {
    "execution": {
     "iopub.execute_input": "2025-03-29T01:30:55.011009Z",
     "iopub.status.busy": "2025-03-29T01:30:55.010947Z",
     "iopub.status.idle": "2025-03-29T01:30:55.019904Z",
     "shell.execute_reply": "2025-03-29T01:30:55.019688Z",
     "shell.execute_reply.started": "2025-03-29T01:30:55.011002Z"
    }
   },
   "outputs": [
    {
     "name": "stdout",
     "output_type": "stream",
     "text": [
      "52\n"
     ]
    },
    {
     "data": {
      "text/html": [
       "<div>\n",
       "<style scoped>\n",
       "    .dataframe tbody tr th:only-of-type {\n",
       "        vertical-align: middle;\n",
       "    }\n",
       "\n",
       "    .dataframe tbody tr th {\n",
       "        vertical-align: top;\n",
       "    }\n",
       "\n",
       "    .dataframe thead th {\n",
       "        text-align: right;\n",
       "    }\n",
       "</style>\n",
       "<table border=\"1\" class=\"dataframe\">\n",
       "  <thead>\n",
       "    <tr style=\"text-align: right;\">\n",
       "      <th></th>\n",
       "      <th>RowId</th>\n",
       "      <th>Airline Name</th>\n",
       "      <th>Overall_Rating</th>\n",
       "      <th>Review_Title</th>\n",
       "      <th>Review Date</th>\n",
       "      <th>Verified</th>\n",
       "      <th>Review</th>\n",
       "      <th>Top Review Image Url</th>\n",
       "      <th>Aircraft</th>\n",
       "      <th>Type Of Traveller</th>\n",
       "      <th>...</th>\n",
       "      <th>Cabin Staff Service</th>\n",
       "      <th>Food &amp; Beverages</th>\n",
       "      <th>Ground Service</th>\n",
       "      <th>Inflight Entertainment</th>\n",
       "      <th>Wifi &amp; Connectivity</th>\n",
       "      <th>Value For Money</th>\n",
       "      <th>Recommended</th>\n",
       "      <th>Id</th>\n",
       "      <th>sentiment_label</th>\n",
       "      <th>sentiment_scores</th>\n",
       "    </tr>\n",
       "  </thead>\n",
       "  <tbody>\n",
       "    <tr>\n",
       "      <th>0</th>\n",
       "      <td>0</td>\n",
       "      <td>Aer Lingus</td>\n",
       "      <td>2.0</td>\n",
       "      <td>“terrible customer service”</td>\n",
       "      <td>2025-03-26</td>\n",
       "      <td>False</td>\n",
       "      <td>Absolutely terrible customer service. Tried t...</td>\n",
       "      <td>NaN</td>\n",
       "      <td>NaN</td>\n",
       "      <td>Couple Leisure</td>\n",
       "      <td>...</td>\n",
       "      <td>3.0</td>\n",
       "      <td>3.0</td>\n",
       "      <td>1.0</td>\n",
       "      <td>NaN</td>\n",
       "      <td>3.0</td>\n",
       "      <td>1</td>\n",
       "      <td>no</td>\n",
       "      <td>661172569262a3a1c15d87e9459a0fefc8664914266518...</td>\n",
       "      <td>negative</td>\n",
       "      <td>0.948760</td>\n",
       "    </tr>\n",
       "    <tr>\n",
       "      <th>1</th>\n",
       "      <td>1</td>\n",
       "      <td>Air France</td>\n",
       "      <td>10.0</td>\n",
       "      <td>\"excellent customer service\"</td>\n",
       "      <td>2025-03-28</td>\n",
       "      <td>True</td>\n",
       "      <td>My son was travelling on Kids Solo as an un...</td>\n",
       "      <td>NaN</td>\n",
       "      <td>NaN</td>\n",
       "      <td>Family Leisure</td>\n",
       "      <td>...</td>\n",
       "      <td>NaN</td>\n",
       "      <td>NaN</td>\n",
       "      <td>5.0</td>\n",
       "      <td>NaN</td>\n",
       "      <td>NaN</td>\n",
       "      <td>5</td>\n",
       "      <td>yes</td>\n",
       "      <td>925fcfda402034e92b439424f9eb35bec83154e497e641...</td>\n",
       "      <td>neutral</td>\n",
       "      <td>0.701676</td>\n",
       "    </tr>\n",
       "    <tr>\n",
       "      <th>2</th>\n",
       "      <td>2</td>\n",
       "      <td>Air India</td>\n",
       "      <td>3.0</td>\n",
       "      <td>“it was not a pleasant experience”</td>\n",
       "      <td>2025-03-26</td>\n",
       "      <td>False</td>\n",
       "      <td>Recently travelled on Air India flight from T...</td>\n",
       "      <td>NaN</td>\n",
       "      <td>NaN</td>\n",
       "      <td>Family Leisure</td>\n",
       "      <td>...</td>\n",
       "      <td>3.0</td>\n",
       "      <td>1.0</td>\n",
       "      <td>4.0</td>\n",
       "      <td>1.0</td>\n",
       "      <td>1.0</td>\n",
       "      <td>1</td>\n",
       "      <td>no</td>\n",
       "      <td>c09a8175ab7eda10f0fddbbdc6227c44836d964901af2c...</td>\n",
       "      <td>negative</td>\n",
       "      <td>0.710657</td>\n",
       "    </tr>\n",
       "    <tr>\n",
       "      <th>3</th>\n",
       "      <td>3</td>\n",
       "      <td>Air India Express</td>\n",
       "      <td>1.0</td>\n",
       "      <td>\"not accountable for any damage\"</td>\n",
       "      <td>2025-03-23</td>\n",
       "      <td>True</td>\n",
       "      <td>No proper communication and very casual app...</td>\n",
       "      <td>https://www.airlinequality.com/wp-content/uplo...</td>\n",
       "      <td>NaN</td>\n",
       "      <td>Family Leisure</td>\n",
       "      <td>...</td>\n",
       "      <td>1.0</td>\n",
       "      <td>1.0</td>\n",
       "      <td>1.0</td>\n",
       "      <td>1.0</td>\n",
       "      <td>1.0</td>\n",
       "      <td>1</td>\n",
       "      <td>no</td>\n",
       "      <td>455e41f45426cc1ebd206caba0945f054613394cb208c5...</td>\n",
       "      <td>negative</td>\n",
       "      <td>0.902924</td>\n",
       "    </tr>\n",
       "    <tr>\n",
       "      <th>4</th>\n",
       "      <td>4</td>\n",
       "      <td>AirAsia X</td>\n",
       "      <td>2.0</td>\n",
       "      <td>\"flight is delay for 20 hours\"</td>\n",
       "      <td>2025-03-24</td>\n",
       "      <td>True</td>\n",
       "      <td>Worse experience, my flight suppose to depa...</td>\n",
       "      <td>NaN</td>\n",
       "      <td>NaN</td>\n",
       "      <td>Business</td>\n",
       "      <td>...</td>\n",
       "      <td>1.0</td>\n",
       "      <td>1.0</td>\n",
       "      <td>1.0</td>\n",
       "      <td>NaN</td>\n",
       "      <td>NaN</td>\n",
       "      <td>1</td>\n",
       "      <td>no</td>\n",
       "      <td>a13ee7a23ddc22c11deadf130dbe3b23384427e2fd5e01...</td>\n",
       "      <td>negative</td>\n",
       "      <td>0.841998</td>\n",
       "    </tr>\n",
       "  </tbody>\n",
       "</table>\n",
       "<p>5 rows × 24 columns</p>\n",
       "</div>"
      ],
      "text/plain": [
       "   RowId       Airline Name  Overall_Rating  \\\n",
       "0      0         Aer Lingus             2.0   \n",
       "1      1         Air France            10.0   \n",
       "2      2          Air India             3.0   \n",
       "3      3  Air India Express             1.0   \n",
       "4      4          AirAsia X             2.0   \n",
       "\n",
       "                         Review_Title Review Date  Verified  \\\n",
       "0         “terrible customer service”  2025-03-26     False   \n",
       "1        \"excellent customer service\"  2025-03-28      True   \n",
       "2  “it was not a pleasant experience”  2025-03-26     False   \n",
       "3    \"not accountable for any damage\"  2025-03-23      True   \n",
       "4      \"flight is delay for 20 hours\"  2025-03-24      True   \n",
       "\n",
       "                                              Review  \\\n",
       "0   Absolutely terrible customer service. Tried t...   \n",
       "1     My son was travelling on Kids Solo as an un...   \n",
       "2   Recently travelled on Air India flight from T...   \n",
       "3     No proper communication and very casual app...   \n",
       "4     Worse experience, my flight suppose to depa...   \n",
       "\n",
       "                                Top Review Image Url Aircraft  \\\n",
       "0                                                NaN      NaN   \n",
       "1                                                NaN      NaN   \n",
       "2                                                NaN      NaN   \n",
       "3  https://www.airlinequality.com/wp-content/uplo...      NaN   \n",
       "4                                                NaN      NaN   \n",
       "\n",
       "  Type Of Traveller  ... Cabin Staff Service Food & Beverages Ground Service  \\\n",
       "0    Couple Leisure  ...                 3.0              3.0            1.0   \n",
       "1    Family Leisure  ...                 NaN              NaN            5.0   \n",
       "2    Family Leisure  ...                 3.0              1.0            4.0   \n",
       "3    Family Leisure  ...                 1.0              1.0            1.0   \n",
       "4          Business  ...                 1.0              1.0            1.0   \n",
       "\n",
       "   Inflight Entertainment  Wifi & Connectivity  Value For Money  Recommended  \\\n",
       "0                     NaN                  3.0                1           no   \n",
       "1                     NaN                  NaN                5          yes   \n",
       "2                     1.0                  1.0                1           no   \n",
       "3                     1.0                  1.0                1           no   \n",
       "4                     NaN                  NaN                1           no   \n",
       "\n",
       "                                                  Id  sentiment_label  \\\n",
       "0  661172569262a3a1c15d87e9459a0fefc8664914266518...         negative   \n",
       "1  925fcfda402034e92b439424f9eb35bec83154e497e641...          neutral   \n",
       "2  c09a8175ab7eda10f0fddbbdc6227c44836d964901af2c...         negative   \n",
       "3  455e41f45426cc1ebd206caba0945f054613394cb208c5...         negative   \n",
       "4  a13ee7a23ddc22c11deadf130dbe3b23384427e2fd5e01...         negative   \n",
       "\n",
       "   sentiment_scores  \n",
       "0          0.948760  \n",
       "1          0.701676  \n",
       "2          0.710657  \n",
       "3          0.902924  \n",
       "4          0.841998  \n",
       "\n",
       "[5 rows x 24 columns]"
      ]
     },
     "execution_count": 56,
     "metadata": {},
     "output_type": "execute_result"
    }
   ],
   "source": [
    "df_merged = data.join(sentiments_df, how='left')\n",
    "print(len(df_merged))\n",
    "df_merged.head()"
   ]
  },
  {
   "cell_type": "markdown",
   "metadata": {},
   "source": [
    "#### Persist to CSV file"
   ]
  },
  {
   "cell_type": "code",
   "execution_count": 58,
   "metadata": {
    "execution": {
     "iopub.execute_input": "2025-03-29T01:30:55.026418Z",
     "iopub.status.busy": "2025-03-29T01:30:55.026354Z",
     "iopub.status.idle": "2025-03-29T01:30:55.032273Z",
     "shell.execute_reply": "2025-03-29T01:30:55.031989Z",
     "shell.execute_reply.started": "2025-03-29T01:30:55.026411Z"
    }
   },
   "outputs": [],
   "source": [
    "df_merged.to_csv(f\"data/silver_{ETL_DATE}_Airline_Reviews_Sentiment.csv\", index=False, date_format='%Y-%m-%d')"
   ]
  },
  {
   "cell_type": "code",
   "execution_count": null,
   "metadata": {},
   "outputs": [],
   "source": []
  }
 ],
 "metadata": {
  "kernelspec": {
   "display_name": "Python [conda env:base] *",
   "language": "python",
   "name": "conda-base-py"
  },
  "language_info": {
   "codemirror_mode": {
    "name": "ipython",
    "version": 3
   },
   "file_extension": ".py",
   "mimetype": "text/x-python",
   "name": "python",
   "nbconvert_exporter": "python",
   "pygments_lexer": "ipython3",
   "version": "3.12.7"
  },
  "vscode": {
   "interpreter": {
    "hash": "1aef26605aa545d91d3fdfced60f5a4ad33a33223899fb2354864dd8410b95af"
   }
  }
 },
 "nbformat": 4,
 "nbformat_minor": 4
}
