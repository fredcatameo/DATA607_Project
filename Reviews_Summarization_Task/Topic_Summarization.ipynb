{
 "cells": [
  {
   "cell_type": "code",
   "execution_count": 39,
   "metadata": {},
   "outputs": [],
   "source": [
    "import pandas as pd\n",
    "import numpy as np\n",
    "\n",
    "\n",
    "from nltk.corpus import stopwords\n",
    "from nltk import WordNetLemmatizer, word_tokenize, pos_tag\n",
    "\n",
    "from sklearn.feature_extraction.text import CountVectorizer\n",
    "from sklearn.decomposition import LatentDirichletAllocation\n",
    "\n",
    "from matplotlib import pyplot as plt\n",
    "import seaborn as sns\n"
   ]
  },
  {
   "cell_type": "code",
   "execution_count": 5,
   "metadata": {},
   "outputs": [
    {
     "data": {
      "text/html": [
       "<div>\n",
       "<style scoped>\n",
       "    .dataframe tbody tr th:only-of-type {\n",
       "        vertical-align: middle;\n",
       "    }\n",
       "\n",
       "    .dataframe tbody tr th {\n",
       "        vertical-align: top;\n",
       "    }\n",
       "\n",
       "    .dataframe thead th {\n",
       "        text-align: right;\n",
       "    }\n",
       "</style>\n",
       "<table border=\"1\" class=\"dataframe\">\n",
       "  <thead>\n",
       "    <tr style=\"text-align: right;\">\n",
       "      <th></th>\n",
       "      <th>RowId</th>\n",
       "      <th>Airline Name</th>\n",
       "      <th>Review_Title</th>\n",
       "      <th>Review Date</th>\n",
       "      <th>Verified</th>\n",
       "      <th>Review</th>\n",
       "      <th>Top Review Image Url</th>\n",
       "      <th>Aircraft</th>\n",
       "      <th>Type Of Traveller</th>\n",
       "      <th>Seat Type</th>\n",
       "      <th>...</th>\n",
       "      <th>img_resnet50_score</th>\n",
       "      <th>img_resnet50_label</th>\n",
       "      <th>img_blip_caption</th>\n",
       "      <th>img_clip_embedding</th>\n",
       "      <th>img_caption_clip_embedding</th>\n",
       "      <th>img_resnet50label_clip_embedding</th>\n",
       "      <th>img_vs_caption_similarity</th>\n",
       "      <th>img_caption_vs_resnetlabel_similarity</th>\n",
       "      <th>Overall_Rating</th>\n",
       "      <th>Summary</th>\n",
       "    </tr>\n",
       "  </thead>\n",
       "  <tbody>\n",
       "    <tr>\n",
       "      <th>0</th>\n",
       "      <td>0</td>\n",
       "      <td>AB Aviation</td>\n",
       "      <td>\"pretty decent airline\"</td>\n",
       "      <td>11th November 2019</td>\n",
       "      <td>True</td>\n",
       "      <td>Moroni to Moheli. Turned out to be a pretty ...</td>\n",
       "      <td>https://www.airlinequality.com/wp-content/uplo...</td>\n",
       "      <td>NaN</td>\n",
       "      <td>Solo Leisure</td>\n",
       "      <td>Economy Class</td>\n",
       "      <td>...</td>\n",
       "      <td>5.190325</td>\n",
       "      <td>military aircraft</td>\n",
       "      <td>a man taking a picture of a plane</td>\n",
       "      <td>tensor([[ 3.5914e-02, -2.8891e-02,  4.5510e-03...</td>\n",
       "      <td>tensor([[ 1.0825e-02,  8.4288e-03, -3.1653e-02...</td>\n",
       "      <td>tensor([[ 9.1185e-03, -1.0847e-02,  1.6327e-02...</td>\n",
       "      <td>0.251976</td>\n",
       "      <td>0.738985</td>\n",
       "      <td>9</td>\n",
       "      <td>Moroni to Moheli was a decent airline with goo...</td>\n",
       "    </tr>\n",
       "  </tbody>\n",
       "</table>\n",
       "<p>1 rows × 33 columns</p>\n",
       "</div>"
      ],
      "text/plain": [
       "   RowId Airline Name             Review_Title         Review Date  Verified  \\\n",
       "0      0  AB Aviation  \"pretty decent airline\"  11th November 2019      True   \n",
       "\n",
       "                                              Review  \\\n",
       "0    Moroni to Moheli. Turned out to be a pretty ...   \n",
       "\n",
       "                                Top Review Image Url Aircraft  \\\n",
       "0  https://www.airlinequality.com/wp-content/uplo...      NaN   \n",
       "\n",
       "  Type Of Traveller      Seat Type  ... img_resnet50_score img_resnet50_label  \\\n",
       "0      Solo Leisure  Economy Class  ...           5.190325  military aircraft   \n",
       "\n",
       "                    img_blip_caption  \\\n",
       "0  a man taking a picture of a plane   \n",
       "\n",
       "                                  img_clip_embedding  \\\n",
       "0  tensor([[ 3.5914e-02, -2.8891e-02,  4.5510e-03...   \n",
       "\n",
       "                          img_caption_clip_embedding  \\\n",
       "0  tensor([[ 1.0825e-02,  8.4288e-03, -3.1653e-02...   \n",
       "\n",
       "                    img_resnet50label_clip_embedding  \\\n",
       "0  tensor([[ 9.1185e-03, -1.0847e-02,  1.6327e-02...   \n",
       "\n",
       "   img_vs_caption_similarity  img_caption_vs_resnetlabel_similarity  \\\n",
       "0                   0.251976                               0.738985   \n",
       "\n",
       "   Overall_Rating                                            Summary  \n",
       "0               9  Moroni to Moheli was a decent airline with goo...  \n",
       "\n",
       "[1 rows x 33 columns]"
      ]
     },
     "execution_count": 2,
     "metadata": {},
     "output_type": "execute_result"
    }
   ],
   "source": [
    "data = pd.read_csv('../data/Gold_20250327_AirlineReviews_Sentiment_Image_Summary.csv')\n",
    "data.head(1)"
   ]
  },
  {
   "cell_type": "code",
   "execution_count": 6,
   "metadata": {},
   "outputs": [
    {
     "data": {
      "text/plain": [
       "(Timestamp('2002-01-06 00:00:00'), Timestamp('2025-03-22 00:00:00'))"
      ]
     },
     "execution_count": 3,
     "metadata": {},
     "output_type": "execute_result"
    }
   ],
   "source": [
    "data['Review Date'] = pd.to_datetime(data['Review Date'], format='mixed')\n",
    "\n",
    "min(data['Review Date']), max(data['Review Date'])"
   ]
  },
  {
   "cell_type": "code",
   "execution_count": 26,
   "metadata": {},
   "outputs": [
    {
     "data": {
      "text/plain": [
       "\"a flight from Ljubljana to Munich was ok, but the airline's baggage was damaged and the return flight was cancelled due to a poor communication. it took 3 months for the airline to pay around 20% of the replacements and extra expenses.\""
      ]
     },
     "execution_count": 4,
     "metadata": {},
     "output_type": "execute_result"
    }
   ],
   "source": [
    "data['Summary'][20]"
   ]
  },
  {
   "cell_type": "code",
   "execution_count": 29,
   "metadata": {},
   "outputs": [],
   "source": [
    "data = data.dropna(subset=['Summary'])"
   ]
  },
  {
   "cell_type": "code",
   "execution_count": 34,
   "metadata": {},
   "outputs": [],
   "source": [
    "def calculate_sentiment_value(score, label):\n",
    "    if label == 'positive':\n",
    "        return score\n",
    "    elif label == 'negative':\n",
    "        return -score\n",
    "    elif label == 'neutral':\n",
    "        return 0.0\n",
    "    else:\n",
    "        return 0.0\n",
    "\n",
    "data['sentiment_score'] = data.apply(\n",
    "    lambda row: calculate_sentiment_value(row['sentiment_score'], row['sentiment_label']),\n",
    "    axis=1\n",
    ")"
   ]
  },
  {
   "cell_type": "code",
   "execution_count": 35,
   "metadata": {},
   "outputs": [
    {
     "data": {
      "text/plain": [
       "(-0.9637599587440492, 0.9913514852523804)"
      ]
     },
     "execution_count": 35,
     "metadata": {},
     "output_type": "execute_result"
    }
   ],
   "source": [
    "min(data['sentiment_score']), max(data['sentiment_score'])"
   ]
  },
  {
   "cell_type": "code",
   "execution_count": 27,
   "metadata": {},
   "outputs": [
    {
     "name": "stdout",
     "output_type": "stream",
     "text": [
      "                                             Summary  \\\n",
      "0  Moroni to Moheli was a decent airline with goo...   \n",
      "1  AB Aviation's flight from Moroni to Anjouan wa...   \n",
      "2  a small airline from Anjouan to Dzaoudzi was d...   \n",
      "3  Adria's flight from Munich to Pristina was can...   \n",
      "4  Adria Airways cancelled a flight from Sofia to...   \n",
      "\n",
      "                                  lemmatized_summary  \n",
      "0         moroni moheli online booking boarding time  \n",
      "1  aviation moroni anjouan put phone number confu...  \n",
      "2           dzaoudzi disorganise local package staff  \n",
      "3  adria munich pristina cancel reason hour depar...  \n",
      "4  adria airway cancel sofia amsterdam september ...  \n"
     ]
    }
   ],
   "source": [
    "# Preprocess the text\n",
    "lemmatizer = WordNetLemmatizer()\n",
    "custom_stopwords = list(set(stopwords.words('english')) | set(['flight', 'plane', 'trip', 'airline', 'leading', 'customer', 'poor', 'good']))\n",
    "\n",
    "def preprocess_text(text):\n",
    "    tokens = word_tokenize(text.lower())\n",
    "    tagged = pos_tag(tokens)\n",
    "    lemmatized_tokens = []\n",
    "    for token, tag in tagged:\n",
    "        if token not in custom_stopwords and token.isalnum():\n",
    "            if tag.startswith('NN'):\n",
    "                lemmatized_tokens.append(lemmatizer.lemmatize(token, pos='n'))\n",
    "            elif tag.startswith('VB'):  \n",
    "                lemmatized_tokens.append(lemmatizer.lemmatize(token, pos='v'))\n",
    "    return ' '.join(lemmatized_tokens)\n",
    "\n",
    "data['lemmatized_summary'] = data['Summary'].apply(preprocess_text)\n",
    "\n",
    "print(data[['Summary', 'lemmatized_summary']].head())"
   ]
  },
  {
   "cell_type": "code",
   "execution_count": 28,
   "metadata": {},
   "outputs": [],
   "source": [
    "\n",
    "vectorizer = CountVectorizer(max_df=0.7, min_df=3, stop_words=custom_stopwords, ngram_range=(1,1))\n",
    "review_matrix = vectorizer.fit_transform(data['lemmatized_summary'])\n",
    "\n",
    "lda = LatentDirichletAllocation(n_components=5, random_state=20)\n",
    "lda_features = lda.fit_transform(review_matrix)\n"
   ]
  },
  {
   "cell_type": "code",
   "execution_count": 30,
   "metadata": {},
   "outputs": [
    {
     "name": "stdout",
     "output_type": "stream",
     "text": [
      "Topic 1: food, service, experience, class, air, seat, entertainment, business, staff, provide\n",
      "Topic 2: result, cancel, lack, refund, ticket, luggage, bag, cancellation\n",
      "Topic 3: delay, hour, time, minute, passenger, airport\n",
      "Topic 4: crew, cabin, offer, meal\n",
      "Topic 5: attendant, boarding, make\n"
     ]
    }
   ],
   "source": [
    "def get_top_words(model, feature_names, n_top_words):\n",
    "    topics = []\n",
    "    used_words = set()\n",
    "    for topic_idx, topic in enumerate(model.components_):\n",
    "        top_indices = topic.argsort()[:-n_top_words - 1:-1]\n",
    "        top_words = [feature_names[i] for i in top_indices if feature_names[i] not in used_words]\n",
    "        topics.append(top_words[:n_top_words])\n",
    "        used_words.update(top_words)\n",
    "    return topics\n",
    "\n",
    "feature_names = vectorizer.get_feature_names_out()\n",
    "topics = get_top_words(lda, feature_names, 10)\n",
    "\n",
    "for i, topic in enumerate(topics):\n",
    "    print(f\"Topic {i+1}: {', '.join(topic)}\")"
   ]
  },
  {
   "cell_type": "code",
   "execution_count": 31,
   "metadata": {},
   "outputs": [],
   "source": [
    "topic_to_service = {\n",
    "    'topic_1': 'inflight_service',\n",
    "    'topic_2': 'cancellation_luggage',\n",
    "    'topic_3': 'delay',\n",
    "    'topic_4': 'crew_meal',\n",
    "    'topic_5': 'boarding'\n",
    "}\n"
   ]
  },
  {
   "cell_type": "code",
   "execution_count": 33,
   "metadata": {},
   "outputs": [],
   "source": [
    "topic_columns = ['topic_1', 'topic_2', 'topic_3', 'topic_4', 'topic_5']\n",
    "# Distribute the topic distribution to the data\n",
    "topic_dist_df = pd.DataFrame(lda_features, columns=topic_columns, index=data.index)\n",
    "data = pd.concat([data, topic_dist_df], axis=1)\n",
    "\n",
    "# If the topic distribution is greater than the threshold, then it is a match\n",
    "threshold = 0.2\n",
    "for topic in topic_columns:\n",
    "    data[f'{topic}_match'] = (data[topic] >= threshold).astype(int)"
   ]
  },
  {
   "cell_type": "code",
   "execution_count": null,
   "metadata": {},
   "outputs": [],
   "source": [
    "# Initialize the match column\n",
    "service_categories = list(topic_to_service.values())\n",
    "for category in service_categories:\n",
    "    data[f'{category}_match'] = 0\n",
    "# Distribute the topic distribution to the data\n",
    "for topic, category in topic_to_service.items():\n",
    "    data[f'{category}_match'] = data[f'{category}_match'] | data[f'{topic}_match']\n",
    "\n",
    "for category in service_categories:\n",
    "    data[f'{category}_sentiment'] = 0.0\n",
    "\n",
    "# Calculate the sentiment score for each service category\n",
    "for i, row in data.iterrows():\n",
    "    sentiment = row['sentiment_score']\n",
    "    total_prob = sum(row[topic] for topic in topic_columns if row[topic] >= threshold)\n",
    "    if total_prob > 0:\n",
    "        for topic, category in topic_to_service.items():\n",
    "            if row[topic] >= threshold:\n",
    "                weight = row[topic] / total_prob\n",
    "                data.at[i, f'{category}_sentiment'] = sentiment * weight"
   ]
  },
  {
   "cell_type": "code",
   "execution_count": 49,
   "metadata": {},
   "outputs": [],
   "source": [
    "emotion_map = data.groupby('Airline Name').agg({\n",
    "    'inflight_service_sentiment': 'mean',\n",
    "    'cancellation_luggage_sentiment': 'mean',\n",
    "    'delay_sentiment': 'mean',\n",
    "    'crew_meal_sentiment': 'mean',\n",
    "    'boarding_sentiment': 'mean'\n",
    "}).reset_index()\n"
   ]
  },
  {
   "cell_type": "code",
   "execution_count": 25,
   "metadata": {},
   "outputs": [
    {
     "data": {
      "text/html": [
       "<div>\n",
       "<style scoped>\n",
       "    .dataframe tbody tr th:only-of-type {\n",
       "        vertical-align: middle;\n",
       "    }\n",
       "\n",
       "    .dataframe tbody tr th {\n",
       "        vertical-align: top;\n",
       "    }\n",
       "\n",
       "    .dataframe thead th {\n",
       "        text-align: right;\n",
       "    }\n",
       "</style>\n",
       "<table border=\"1\" class=\"dataframe\">\n",
       "  <thead>\n",
       "    <tr style=\"text-align: right;\">\n",
       "      <th></th>\n",
       "      <th>Airline Name</th>\n",
       "      <th>inflight_service_sentiment</th>\n",
       "      <th>cancellation_luggage_sentiment</th>\n",
       "      <th>delay_sentiment</th>\n",
       "      <th>crew_meal_sentiment</th>\n",
       "      <th>boarding_sentiment</th>\n",
       "    </tr>\n",
       "  </thead>\n",
       "  <tbody>\n",
       "    <tr>\n",
       "      <th>0</th>\n",
       "      <td>AB Aviation</td>\n",
       "      <td>0.000000</td>\n",
       "      <td>0.000000</td>\n",
       "      <td>0.000000</td>\n",
       "      <td>0.000000</td>\n",
       "      <td>0.116415</td>\n",
       "    </tr>\n",
       "    <tr>\n",
       "      <th>1</th>\n",
       "      <td>AIRDO</td>\n",
       "      <td>0.351743</td>\n",
       "      <td>0.000000</td>\n",
       "      <td>0.120142</td>\n",
       "      <td>0.000000</td>\n",
       "      <td>0.346983</td>\n",
       "    </tr>\n",
       "    <tr>\n",
       "      <th>2</th>\n",
       "      <td>AJet</td>\n",
       "      <td>-0.068594</td>\n",
       "      <td>-0.393694</td>\n",
       "      <td>-0.056692</td>\n",
       "      <td>0.000000</td>\n",
       "      <td>0.041543</td>\n",
       "    </tr>\n",
       "    <tr>\n",
       "      <th>3</th>\n",
       "      <td>ANA All Nippon Airways</td>\n",
       "      <td>0.296503</td>\n",
       "      <td>-0.006073</td>\n",
       "      <td>-0.008573</td>\n",
       "      <td>0.058921</td>\n",
       "      <td>0.003421</td>\n",
       "    </tr>\n",
       "    <tr>\n",
       "      <th>4</th>\n",
       "      <td>ASKY Airlines</td>\n",
       "      <td>0.005284</td>\n",
       "      <td>-0.178410</td>\n",
       "      <td>-0.188722</td>\n",
       "      <td>0.000000</td>\n",
       "      <td>-0.132782</td>\n",
       "    </tr>\n",
       "  </tbody>\n",
       "</table>\n",
       "</div>"
      ],
      "text/plain": [
       "             Airline Name  inflight_service_sentiment  \\\n",
       "0             AB Aviation                    0.000000   \n",
       "1                   AIRDO                    0.351743   \n",
       "2                    AJet                   -0.068594   \n",
       "3  ANA All Nippon Airways                    0.296503   \n",
       "4           ASKY Airlines                    0.005284   \n",
       "\n",
       "   cancellation_luggage_sentiment  delay_sentiment  crew_meal_sentiment  \\\n",
       "0                        0.000000         0.000000             0.000000   \n",
       "1                        0.000000         0.120142             0.000000   \n",
       "2                       -0.393694        -0.056692             0.000000   \n",
       "3                       -0.006073        -0.008573             0.058921   \n",
       "4                       -0.178410        -0.188722             0.000000   \n",
       "\n",
       "   boarding_sentiment  \n",
       "0            0.116415  \n",
       "1            0.346983  \n",
       "2            0.041543  \n",
       "3            0.003421  \n",
       "4           -0.132782  "
      ]
     },
     "execution_count": 25,
     "metadata": {},
     "output_type": "execute_result"
    }
   ],
   "source": [
    "# import pandas as pd\n",
    "# from matplotlib import pyplot as plt\n",
    "# import seaborn as sns\n",
    "# heatmap_data = pd.read_csv('emotion_map_by_airline_and_service_stage.csv')\n",
    "# heatmap_data.head()"
   ]
  },
  {
   "cell_type": "code",
   "execution_count": null,
   "metadata": {},
   "outputs": [],
   "source": [
    "# heatmap_data = heatmap_data.set_index('Airline Name').T"
   ]
  },
  {
   "cell_type": "code",
   "execution_count": 36,
   "metadata": {},
   "outputs": [
    {
     "data": {
      "image/png": "[encoded data removed]",
      "text/plain": [
       "<Figure size 1200x800 with 2 Axes>"
      ]
     },
     "metadata": {
      "needs_background": "light"
     },
     "output_type": "display_data"
    }
   ],
   "source": [
    "# # heatmap_data = emotion_map.set_index('Airline Name')\n",
    "# plt.figure(figsize=(12, 8), facecolor='None')\n",
    "# sns.heatmap(heatmap_data.iloc[:,12:15], annot=True, cmap='RdYlGn', center=0, vmin=-1, vmax=1, annot_kws={\"size\": 13})\n",
    "# # plt.title(\"Emotion Heatmap by Airline and Service Stage (Multi-Topic with Sentiment Direction)\")\n",
    "# plt.show()\n"
   ]
  },
  {
   "cell_type": "code",
   "execution_count": null,
   "metadata": {},
   "outputs": [],
   "source": [
    "# emotion_map.to_csv('emotion_map_by_airline_and_service_stage.csv', index=False)"
   ]
  },
  {
   "cell_type": "code",
   "execution_count": null,
   "metadata": {},
   "outputs": [],
   "source": []
  }
 ],
 "metadata": {
  "kernelspec": {
   "display_name": "DATA607_Project",
   "language": "python",
   "name": "python3"
  },
  "language_info": {
   "codemirror_mode": {
    "name": "ipython",
    "version": 3
   },
   "file_extension": ".py",
   "mimetype": "text/x-python",
   "name": "python",
   "nbconvert_exporter": "python",
   "pygments_lexer": "ipython3",
   "version": "3.11.11"
  }
 },
 "nbformat": 4,
 "nbformat_minor": 2
}
