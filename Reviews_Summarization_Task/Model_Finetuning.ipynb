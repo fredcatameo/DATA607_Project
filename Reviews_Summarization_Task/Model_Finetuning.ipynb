{
 "cells": [
  {
   "cell_type": "markdown",
   "metadata": {},
   "source": [
    "# Model Fintuning"
   ]
  },
  {
   "cell_type": "code",
   "execution_count": 2,
   "metadata": {},
   "outputs": [],
   "source": [
    "from transformers import T5Tokenizer, T5ForConditionalGeneration, Trainer, TrainingArguments\n",
    "from datasets import Dataset\n",
    "import pandas as pd"
   ]
  },
  {
   "cell_type": "code",
   "execution_count": null,
   "metadata": {},
   "outputs": [],
   "source": [
    "training_data = pd.read_csv('Reviews_For_Finetuning.csv')\n",
    "X = training_data[['Review', 'summary']].rename(columns={'Review':'input_text', 'summary':'target_text'})\n",
    "dataset = Dataset.from_pandas(X)"
   ]
  },
  {
   "cell_type": "markdown",
   "metadata": {},
   "source": [
    "### Finetune T5-small model with LLM soft-labeled summary data of 2000 reviews."
   ]
  },
  {
   "cell_type": "code",
   "execution_count": null,
   "metadata": {},
   "outputs": [],
   "source": [
    "# Model Initialize\n",
    "model_name = \"t5-small\"\n",
    "tokenizer = T5Tokenizer.from_pretrained(model_name)\n",
    "model = T5ForConditionalGeneration.from_pretrained(model_name)\n",
    "\n",
    "# Preprocessing - Tokenize\n",
    "def preprocess(example):\n",
    "    model_inputs = tokenizer(\n",
    "        example['input_text'], max_length=512, truncation=True, padding=\"max_length\"\n",
    "    )\n",
    "    labels = tokenizer(\n",
    "        example['target_text'], max_length=64, truncation=True, padding=\"max_length\"\n",
    "    )\n",
    "    model_inputs['labels'] = labels['input_ids']\n",
    "    return model_inputs\n",
    "tokenized_dataset = dataset.map(preprocess)\n",
    "\n",
    "\n",
    "# Model Params Setting\n",
    "training_args = TrainingArguments(\n",
    "    output_dir=\"./t5-summary-model\",\n",
    "    per_device_train_batch_size=4,\n",
    "    num_train_epochs=3,\n",
    "    logging_steps=10,\n",
    "    save_steps=50,\n",
    "    evaluation_strategy=\"no\",\n",
    "    save_total_limit=1,\n",
    "    fp16=True, \n",
    "    report_to=\"none\"\n",
    ")\n",
    "\n",
    "# Execute Finetuning\n",
    "trainer = Trainer(\n",
    "    model=model,\n",
    "    args=training_args,\n",
    "    train_dataset=tokenized_dataset\n",
    ")\n",
    "\n",
    "trainer.train()\n"
   ]
  },
  {
   "cell_type": "markdown",
   "metadata": {},
   "source": [
    "### T5 Finetuned Model Use Case & Summary Testing"
   ]
  },
  {
   "cell_type": "code",
   "execution_count": 14,
   "metadata": {},
   "outputs": [
    {
     "name": "stdout",
     "output_type": "stream",
     "text": [
      "✈️ Original Text   Worst experience ever, the long delays, to rude staff. The call centre not taking any calls after 5:00pm, although I was informed that they are open 24 hours. Giving vague justification, which was quiet hard to believe, and not letting us know why exactly the flight was cancelled, if this keeps happening the remaining passengers choosing will stop travelling by Srilankan Airlines. Food was good enough, but the staff members at Melbourne airport were on top of their attitude and arrogant.\n",
      "\n",
      "✈️ Summary by LLM:  Srilankan Airlines provided a terrible experience with long delays, rude staff, and a non-responsive call center, though the food was satisfactory.\n",
      "\n",
      "📝 Summary by T5:  Srilankan Airlines cancelled a flight after 5:00pm, with rude staff, good food, and arrogant staff at Melbourne airport.\n"
     ]
    }
   ],
   "source": [
    "model = T5ForConditionalGeneration.from_pretrained(\"./t5_AirlineReviews_summary_model\")\n",
    "tokenizer = T5Tokenizer.from_pretrained(\"./t5_AirlineReviews_summary_model\")\n",
    "\n",
    "def summarize(text, max_input_length=512, max_output_length=64):\n",
    "    input_text = \"summarize: \" + text\n",
    "\n",
    "    input_ids = tokenizer.encode(\n",
    "        input_text,\n",
    "        return_tensors=\"pt\",\n",
    "        truncation=True,\n",
    "        max_length=max_input_length\n",
    "    )\n",
    "\n",
    "    output_ids = model.generate(\n",
    "        input_ids,\n",
    "        max_length=max_output_length,\n",
    "        num_beams=4,\n",
    "        early_stopping=True\n",
    "    )\n",
    "\n",
    "    summary = tokenizer.decode(output_ids[0], skip_special_tokens=True)\n",
    "    return summary\n",
    "\n",
    "test_text = X.input_text[1]\n",
    "print(\"✈️ Original Text\", test_text, end='\\n\\n')\n",
    "print(\"✈️ Summary by LLM: \", X.target_text[1], end='\\n\\n')\n",
    "print(\"📝 Summary by T5: \", summarize(test_text))"
   ]
  },
  {
   "cell_type": "code",
   "execution_count": 2,
   "metadata": {},
   "outputs": [
    {
     "data": {
      "image/png": "[encoded data removed]",
      "text/plain": [
       "<Figure size 640x480 with 1 Axes>"
      ]
     },
     "metadata": {},
     "output_type": "display_data"
    }
   ],
   "source": [
    "import json\n",
    "import matplotlib.pyplot as plt\n",
    "\n",
    "# 讀 trainer_state.json\n",
    "with open(\"t5_finetuning_record/trainer_state.json\", \"r\") as f:\n",
    "    state = json.load(f)\n",
    "\n",
    "log_history = state[\"log_history\"]\n",
    "\n",
    "# 抓 loss & step\n",
    "steps = [entry[\"step\"] for entry in log_history if \"loss\" in entry]\n",
    "losses = [entry[\"loss\"] for entry in log_history if \"loss\" in entry]\n",
    "\n",
    "plt.plot(steps, losses)\n",
    "plt.xlabel(\"Step\")\n",
    "plt.ylabel(\"Training Loss\")\n",
    "plt.title(\"Training Loss Curve\")\n",
    "plt.grid(True)\n",
    "plt.show()"
   ]
  },
  {
   "cell_type": "code",
   "execution_count": null,
   "metadata": {},
   "outputs": [],
   "source": []
  }
 ],
 "metadata": {
  "kernelspec": {
   "display_name": "Python 3.13.2 ('DATA607_Project': venv)",
   "language": "python",
   "name": "python3"
  },
  "language_info": {
   "codemirror_mode": {
    "name": "ipython",
    "version": 3
   },
   "file_extension": ".py",
   "mimetype": "text/x-python",
   "name": "python",
   "nbconvert_exporter": "python",
   "pygments_lexer": "ipython3",
   "version": "3.13.2"
  },
  "orig_nbformat": 4,
  "vscode": {
   "interpreter": {
    "hash": "1aef26605aa545d91d3fdfced60f5a4ad33a33223899fb2354864dd8410b95af"
   }
  }
 },
 "nbformat": 4,
 "nbformat_minor": 2
}
