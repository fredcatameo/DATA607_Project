{
 "cells": [
  {
   "cell_type": "code",
   "execution_count": 40,
   "id": "a8414ace-c0f9-4cc3-a4d0-ecf94e7138ed",
   "metadata": {
    "execution": {
     "iopub.execute_input": "2025-03-28T17:10:50.979776Z",
     "iopub.status.busy": "2025-03-28T17:10:50.979151Z",
     "iopub.status.idle": "2025-03-28T17:10:50.985923Z",
     "shell.execute_reply": "2025-03-28T17:10:50.984255Z",
     "shell.execute_reply.started": "2025-03-28T17:10:50.979733Z"
    }
   },
   "outputs": [],
   "source": [
    "import pandas as pd\n",
    "import numpy as np\n",
    "from datetime import datetime"
   ]
  },
  {
   "cell_type": "code",
   "execution_count": 153,
   "id": "4f00ae9b-5613-4dec-aaf0-d6d091595900",
   "metadata": {
    "execution": {
     "iopub.execute_input": "2025-03-29T01:36:15.287077Z",
     "iopub.status.busy": "2025-03-29T01:36:15.286607Z",
     "iopub.status.idle": "2025-03-29T01:36:15.294833Z",
     "shell.execute_reply": "2025-03-29T01:36:15.294244Z",
     "shell.execute_reply.started": "2025-03-29T01:36:15.287046Z"
    }
   },
   "outputs": [],
   "source": [
    "#Get ETL_DATE for Incremental Ingestion (enabled if ETL_DATE set to 'CURRENT_DATE')\n",
    "from dotenv import load_dotenv\n",
    "from pathlib import Path\n",
    "import os\n",
    "\n",
    "dotenv_path = Path('db_credentials.env')\n",
    "load_dotenv(dotenv_path=dotenv_path)\n",
    "\n",
    "ETL_DATE = os.getenv('ETL_DATE')"
   ]
  },
  {
   "cell_type": "code",
   "execution_count": 155,
   "id": "9ab42414-7fbf-4adf-92d5-d127b68621bb",
   "metadata": {
    "execution": {
     "iopub.execute_input": "2025-03-29T01:36:16.635263Z",
     "iopub.status.busy": "2025-03-29T01:36:16.634738Z",
     "iopub.status.idle": "2025-03-29T01:36:16.642959Z",
     "shell.execute_reply": "2025-03-29T01:36:16.642104Z",
     "shell.execute_reply.started": "2025-03-29T01:36:16.635230Z"
    }
   },
   "outputs": [
    {
     "name": "stdout",
     "output_type": "stream",
     "text": [
      "20250328\n"
     ]
    }
   ],
   "source": [
    "# For Incremental Ingestion (enabled if ETL_DATE set to 'CURRENT_DATE')\n",
    "if ETL_DATE == 'CURRENT_DATE':\n",
    "    ETL_DATE = datetime.today().strftime('%Y%m%d')\n",
    "else:\n",
    "   ETL_DATE = '20250322'\n",
    "    \n",
    "print(ETL_DATE)"
   ]
  },
  {
   "cell_type": "code",
   "execution_count": 114,
   "id": "0465403d-4571-4957-bcb9-f1d8a297520c",
   "metadata": {
    "execution": {
     "iopub.execute_input": "2025-03-29T01:28:33.002245Z",
     "iopub.status.busy": "2025-03-29T01:28:33.002040Z",
     "iopub.status.idle": "2025-03-29T01:28:33.018790Z",
     "shell.execute_reply": "2025-03-29T01:28:33.018455Z",
     "shell.execute_reply.started": "2025-03-29T01:28:33.002235Z"
    },
    "scrolled": true
   },
   "outputs": [
    {
     "name": "stdout",
     "output_type": "stream",
     "text": [
      "52\n"
     ]
    },
    {
     "data": {
      "text/html": [
       "<div>\n",
       "<style scoped>\n",
       "    .dataframe tbody tr th:only-of-type {\n",
       "        vertical-align: middle;\n",
       "    }\n",
       "\n",
       "    .dataframe tbody tr th {\n",
       "        vertical-align: top;\n",
       "    }\n",
       "\n",
       "    .dataframe thead th {\n",
       "        text-align: right;\n",
       "    }\n",
       "</style>\n",
       "<table border=\"1\" class=\"dataframe\">\n",
       "  <thead>\n",
       "    <tr style=\"text-align: right;\">\n",
       "      <th></th>\n",
       "      <th>Unnamed: 0</th>\n",
       "      <th>Airline Name</th>\n",
       "      <th>Overall_Rating</th>\n",
       "      <th>Review_Title</th>\n",
       "      <th>Review Date</th>\n",
       "      <th>Verified</th>\n",
       "      <th>Review</th>\n",
       "      <th>Top Review Image Url</th>\n",
       "      <th>Aircraft</th>\n",
       "      <th>Type Of Traveller</th>\n",
       "      <th>...</th>\n",
       "      <th>Route</th>\n",
       "      <th>Date Flown</th>\n",
       "      <th>Seat Comfort</th>\n",
       "      <th>Cabin Staff Service</th>\n",
       "      <th>Food &amp; Beverages</th>\n",
       "      <th>Ground Service</th>\n",
       "      <th>Inflight Entertainment</th>\n",
       "      <th>Wifi &amp; Connectivity</th>\n",
       "      <th>Value For Money</th>\n",
       "      <th>Recommended</th>\n",
       "    </tr>\n",
       "  </thead>\n",
       "  <tbody>\n",
       "    <tr>\n",
       "      <th>0</th>\n",
       "      <td>0</td>\n",
       "      <td>Aer Lingus</td>\n",
       "      <td>2</td>\n",
       "      <td>“terrible customer service”</td>\n",
       "      <td>26th March 2025</td>\n",
       "      <td>False</td>\n",
       "      <td>Absolutely terrible customer service. Tried t...</td>\n",
       "      <td>NaN</td>\n",
       "      <td>NaN</td>\n",
       "      <td>Couple Leisure</td>\n",
       "      <td>...</td>\n",
       "      <td>Paris to Dublin</td>\n",
       "      <td>March 2025</td>\n",
       "      <td>2.0</td>\n",
       "      <td>3.0</td>\n",
       "      <td>3.0</td>\n",
       "      <td>1.0</td>\n",
       "      <td>NaN</td>\n",
       "      <td>3.0</td>\n",
       "      <td>1</td>\n",
       "      <td>no</td>\n",
       "    </tr>\n",
       "    <tr>\n",
       "      <th>1</th>\n",
       "      <td>1</td>\n",
       "      <td>Air France</td>\n",
       "      <td>10</td>\n",
       "      <td>\"excellent customer service\"</td>\n",
       "      <td>28th March 2025</td>\n",
       "      <td>True</td>\n",
       "      <td>My son was travelling on Kids Solo as an un...</td>\n",
       "      <td>NaN</td>\n",
       "      <td>NaN</td>\n",
       "      <td>Family Leisure</td>\n",
       "      <td>...</td>\n",
       "      <td>Dublin to Singapore</td>\n",
       "      <td>March 2025</td>\n",
       "      <td>NaN</td>\n",
       "      <td>NaN</td>\n",
       "      <td>NaN</td>\n",
       "      <td>5.0</td>\n",
       "      <td>NaN</td>\n",
       "      <td>NaN</td>\n",
       "      <td>5</td>\n",
       "      <td>yes</td>\n",
       "    </tr>\n",
       "    <tr>\n",
       "      <th>2</th>\n",
       "      <td>2</td>\n",
       "      <td>Air India</td>\n",
       "      <td>3</td>\n",
       "      <td>“it was not a pleasant experience”</td>\n",
       "      <td>26th March 2025</td>\n",
       "      <td>False</td>\n",
       "      <td>Recently travelled on Air India flight from T...</td>\n",
       "      <td>NaN</td>\n",
       "      <td>NaN</td>\n",
       "      <td>Family Leisure</td>\n",
       "      <td>...</td>\n",
       "      <td>Toronto to New Delhi</td>\n",
       "      <td>March 2025</td>\n",
       "      <td>1.0</td>\n",
       "      <td>3.0</td>\n",
       "      <td>1.0</td>\n",
       "      <td>4.0</td>\n",
       "      <td>1.0</td>\n",
       "      <td>1.0</td>\n",
       "      <td>1</td>\n",
       "      <td>no</td>\n",
       "    </tr>\n",
       "    <tr>\n",
       "      <th>3</th>\n",
       "      <td>3</td>\n",
       "      <td>Air India Express</td>\n",
       "      <td>1</td>\n",
       "      <td>\"not accountable for any damage\"</td>\n",
       "      <td>23rd March 2025</td>\n",
       "      <td>True</td>\n",
       "      <td>No proper communication and very casual app...</td>\n",
       "      <td>https://www.airlinequality.com/wp-content/uplo...</td>\n",
       "      <td>NaN</td>\n",
       "      <td>Family Leisure</td>\n",
       "      <td>...</td>\n",
       "      <td>Cochin to Delhi</td>\n",
       "      <td>March 2025</td>\n",
       "      <td>1.0</td>\n",
       "      <td>1.0</td>\n",
       "      <td>1.0</td>\n",
       "      <td>1.0</td>\n",
       "      <td>1.0</td>\n",
       "      <td>1.0</td>\n",
       "      <td>1</td>\n",
       "      <td>no</td>\n",
       "    </tr>\n",
       "    <tr>\n",
       "      <th>4</th>\n",
       "      <td>4</td>\n",
       "      <td>AirAsia X</td>\n",
       "      <td>2</td>\n",
       "      <td>\"flight is delay for 20 hours\"</td>\n",
       "      <td>24th March 2025</td>\n",
       "      <td>True</td>\n",
       "      <td>Worse experience, my flight suppose to depa...</td>\n",
       "      <td>NaN</td>\n",
       "      <td>NaN</td>\n",
       "      <td>Business</td>\n",
       "      <td>...</td>\n",
       "      <td>Amritsar to Perth via Kuala Lumpur</td>\n",
       "      <td>March 2025</td>\n",
       "      <td>1.0</td>\n",
       "      <td>1.0</td>\n",
       "      <td>1.0</td>\n",
       "      <td>1.0</td>\n",
       "      <td>NaN</td>\n",
       "      <td>NaN</td>\n",
       "      <td>1</td>\n",
       "      <td>no</td>\n",
       "    </tr>\n",
       "  </tbody>\n",
       "</table>\n",
       "<p>5 rows × 21 columns</p>\n",
       "</div>"
      ],
      "text/plain": [
       "   Unnamed: 0       Airline Name  Overall_Rating  \\\n",
       "0           0         Aer Lingus               2   \n",
       "1           1         Air France              10   \n",
       "2           2          Air India               3   \n",
       "3           3  Air India Express               1   \n",
       "4           4          AirAsia X               2   \n",
       "\n",
       "                         Review_Title      Review Date  Verified  \\\n",
       "0         “terrible customer service”  26th March 2025     False   \n",
       "1        \"excellent customer service\"  28th March 2025      True   \n",
       "2  “it was not a pleasant experience”  26th March 2025     False   \n",
       "3    \"not accountable for any damage\"  23rd March 2025      True   \n",
       "4      \"flight is delay for 20 hours\"  24th March 2025      True   \n",
       "\n",
       "                                              Review  \\\n",
       "0   Absolutely terrible customer service. Tried t...   \n",
       "1     My son was travelling on Kids Solo as an un...   \n",
       "2   Recently travelled on Air India flight from T...   \n",
       "3     No proper communication and very casual app...   \n",
       "4     Worse experience, my flight suppose to depa...   \n",
       "\n",
       "                                Top Review Image Url Aircraft  \\\n",
       "0                                                NaN      NaN   \n",
       "1                                                NaN      NaN   \n",
       "2                                                NaN      NaN   \n",
       "3  https://www.airlinequality.com/wp-content/uplo...      NaN   \n",
       "4                                                NaN      NaN   \n",
       "\n",
       "  Type Of Traveller  ...                               Route  Date Flown  \\\n",
       "0    Couple Leisure  ...                     Paris to Dublin  March 2025   \n",
       "1    Family Leisure  ...                 Dublin to Singapore  March 2025   \n",
       "2    Family Leisure  ...                Toronto to New Delhi  March 2025   \n",
       "3    Family Leisure  ...                     Cochin to Delhi  March 2025   \n",
       "4          Business  ...  Amritsar to Perth via Kuala Lumpur  March 2025   \n",
       "\n",
       "  Seat Comfort  Cabin Staff Service  Food & Beverages  Ground Service  \\\n",
       "0          2.0                  3.0               3.0             1.0   \n",
       "1          NaN                  NaN               NaN             5.0   \n",
       "2          1.0                  3.0               1.0             4.0   \n",
       "3          1.0                  1.0               1.0             1.0   \n",
       "4          1.0                  1.0               1.0             1.0   \n",
       "\n",
       "   Inflight Entertainment  Wifi & Connectivity  Value For Money  Recommended  \n",
       "0                     NaN                  3.0                1           no  \n",
       "1                     NaN                  NaN                5          yes  \n",
       "2                     1.0                  1.0                1           no  \n",
       "3                     1.0                  1.0                1           no  \n",
       "4                     NaN                  NaN                1           no  \n",
       "\n",
       "[5 rows x 21 columns]"
      ]
     },
     "execution_count": 114,
     "metadata": {},
     "output_type": "execute_result"
    }
   ],
   "source": [
    "df_raw = pd.read_csv(f\"data/bronze_{ETL_DATE}_Airline_Reviews_withImageUrls.csv\")\n",
    "print(len(df_raw))\n",
    "df_raw.head()"
   ]
  },
  {
   "cell_type": "markdown",
   "id": "f8257102-5de8-422f-98aa-6f6ffd11bb62",
   "metadata": {},
   "source": [
    "#### Rename \"Unnamed: 0\" to \"RowId\""
   ]
  },
  {
   "cell_type": "code",
   "execution_count": 117,
   "id": "34cd0954-be66-4d5d-a7e6-572bf880ba3f",
   "metadata": {
    "execution": {
     "iopub.execute_input": "2025-03-29T01:28:43.482571Z",
     "iopub.status.busy": "2025-03-29T01:28:43.482080Z",
     "iopub.status.idle": "2025-03-29T01:28:43.492082Z",
     "shell.execute_reply": "2025-03-29T01:28:43.491006Z",
     "shell.execute_reply.started": "2025-03-29T01:28:43.482536Z"
    }
   },
   "outputs": [],
   "source": [
    "df = df_raw.copy()\n",
    "df.rename(columns={\"Unnamed: 0\": \"RowId\"}, inplace=True)"
   ]
  },
  {
   "cell_type": "markdown",
   "id": "7f193f65-25e1-47aa-bfcb-5826b265418d",
   "metadata": {},
   "source": [
    "#### Format and Convert Dates"
   ]
  },
  {
   "cell_type": "code",
   "execution_count": 120,
   "id": "04afd33a-0721-41d5-a7b0-960f5d824011",
   "metadata": {
    "execution": {
     "iopub.execute_input": "2025-03-29T01:28:45.357063Z",
     "iopub.status.busy": "2025-03-29T01:28:45.356408Z",
     "iopub.status.idle": "2025-03-29T01:28:45.384284Z",
     "shell.execute_reply": "2025-03-29T01:28:45.384013Z",
     "shell.execute_reply.started": "2025-03-29T01:28:45.357013Z"
    }
   },
   "outputs": [
    {
     "name": "stdout",
     "output_type": "stream",
     "text": [
      "52\n"
     ]
    },
    {
     "data": {
      "text/html": [
       "<div>\n",
       "<style scoped>\n",
       "    .dataframe tbody tr th:only-of-type {\n",
       "        vertical-align: middle;\n",
       "    }\n",
       "\n",
       "    .dataframe tbody tr th {\n",
       "        vertical-align: top;\n",
       "    }\n",
       "\n",
       "    .dataframe thead th {\n",
       "        text-align: right;\n",
       "    }\n",
       "</style>\n",
       "<table border=\"1\" class=\"dataframe\">\n",
       "  <thead>\n",
       "    <tr style=\"text-align: right;\">\n",
       "      <th></th>\n",
       "      <th>RowId</th>\n",
       "      <th>Airline Name</th>\n",
       "      <th>Overall_Rating</th>\n",
       "      <th>Review_Title</th>\n",
       "      <th>Review Date</th>\n",
       "      <th>Verified</th>\n",
       "      <th>Review</th>\n",
       "      <th>Top Review Image Url</th>\n",
       "      <th>Aircraft</th>\n",
       "      <th>Type Of Traveller</th>\n",
       "      <th>...</th>\n",
       "      <th>Route</th>\n",
       "      <th>Date Flown</th>\n",
       "      <th>Seat Comfort</th>\n",
       "      <th>Cabin Staff Service</th>\n",
       "      <th>Food &amp; Beverages</th>\n",
       "      <th>Ground Service</th>\n",
       "      <th>Inflight Entertainment</th>\n",
       "      <th>Wifi &amp; Connectivity</th>\n",
       "      <th>Value For Money</th>\n",
       "      <th>Recommended</th>\n",
       "    </tr>\n",
       "  </thead>\n",
       "  <tbody>\n",
       "    <tr>\n",
       "      <th>0</th>\n",
       "      <td>0</td>\n",
       "      <td>Aer Lingus</td>\n",
       "      <td>2</td>\n",
       "      <td>“terrible customer service”</td>\n",
       "      <td>2025-03-26</td>\n",
       "      <td>False</td>\n",
       "      <td>Absolutely terrible customer service. Tried t...</td>\n",
       "      <td>NaN</td>\n",
       "      <td>NaN</td>\n",
       "      <td>Couple Leisure</td>\n",
       "      <td>...</td>\n",
       "      <td>Paris to Dublin</td>\n",
       "      <td>2025-03-01</td>\n",
       "      <td>2.0</td>\n",
       "      <td>3.0</td>\n",
       "      <td>3.0</td>\n",
       "      <td>1.0</td>\n",
       "      <td>NaN</td>\n",
       "      <td>3.0</td>\n",
       "      <td>1</td>\n",
       "      <td>no</td>\n",
       "    </tr>\n",
       "    <tr>\n",
       "      <th>1</th>\n",
       "      <td>1</td>\n",
       "      <td>Air France</td>\n",
       "      <td>10</td>\n",
       "      <td>\"excellent customer service\"</td>\n",
       "      <td>2025-03-28</td>\n",
       "      <td>True</td>\n",
       "      <td>My son was travelling on Kids Solo as an un...</td>\n",
       "      <td>NaN</td>\n",
       "      <td>NaN</td>\n",
       "      <td>Family Leisure</td>\n",
       "      <td>...</td>\n",
       "      <td>Dublin to Singapore</td>\n",
       "      <td>2025-03-01</td>\n",
       "      <td>NaN</td>\n",
       "      <td>NaN</td>\n",
       "      <td>NaN</td>\n",
       "      <td>5.0</td>\n",
       "      <td>NaN</td>\n",
       "      <td>NaN</td>\n",
       "      <td>5</td>\n",
       "      <td>yes</td>\n",
       "    </tr>\n",
       "    <tr>\n",
       "      <th>2</th>\n",
       "      <td>2</td>\n",
       "      <td>Air India</td>\n",
       "      <td>3</td>\n",
       "      <td>“it was not a pleasant experience”</td>\n",
       "      <td>2025-03-26</td>\n",
       "      <td>False</td>\n",
       "      <td>Recently travelled on Air India flight from T...</td>\n",
       "      <td>NaN</td>\n",
       "      <td>NaN</td>\n",
       "      <td>Family Leisure</td>\n",
       "      <td>...</td>\n",
       "      <td>Toronto to New Delhi</td>\n",
       "      <td>2025-03-01</td>\n",
       "      <td>1.0</td>\n",
       "      <td>3.0</td>\n",
       "      <td>1.0</td>\n",
       "      <td>4.0</td>\n",
       "      <td>1.0</td>\n",
       "      <td>1.0</td>\n",
       "      <td>1</td>\n",
       "      <td>no</td>\n",
       "    </tr>\n",
       "    <tr>\n",
       "      <th>3</th>\n",
       "      <td>3</td>\n",
       "      <td>Air India Express</td>\n",
       "      <td>1</td>\n",
       "      <td>\"not accountable for any damage\"</td>\n",
       "      <td>2025-03-23</td>\n",
       "      <td>True</td>\n",
       "      <td>No proper communication and very casual app...</td>\n",
       "      <td>https://www.airlinequality.com/wp-content/uplo...</td>\n",
       "      <td>NaN</td>\n",
       "      <td>Family Leisure</td>\n",
       "      <td>...</td>\n",
       "      <td>Cochin to Delhi</td>\n",
       "      <td>2025-03-01</td>\n",
       "      <td>1.0</td>\n",
       "      <td>1.0</td>\n",
       "      <td>1.0</td>\n",
       "      <td>1.0</td>\n",
       "      <td>1.0</td>\n",
       "      <td>1.0</td>\n",
       "      <td>1</td>\n",
       "      <td>no</td>\n",
       "    </tr>\n",
       "    <tr>\n",
       "      <th>4</th>\n",
       "      <td>4</td>\n",
       "      <td>AirAsia X</td>\n",
       "      <td>2</td>\n",
       "      <td>\"flight is delay for 20 hours\"</td>\n",
       "      <td>2025-03-24</td>\n",
       "      <td>True</td>\n",
       "      <td>Worse experience, my flight suppose to depa...</td>\n",
       "      <td>NaN</td>\n",
       "      <td>NaN</td>\n",
       "      <td>Business</td>\n",
       "      <td>...</td>\n",
       "      <td>Amritsar to Perth via Kuala Lumpur</td>\n",
       "      <td>2025-03-01</td>\n",
       "      <td>1.0</td>\n",
       "      <td>1.0</td>\n",
       "      <td>1.0</td>\n",
       "      <td>1.0</td>\n",
       "      <td>NaN</td>\n",
       "      <td>NaN</td>\n",
       "      <td>1</td>\n",
       "      <td>no</td>\n",
       "    </tr>\n",
       "  </tbody>\n",
       "</table>\n",
       "<p>5 rows × 21 columns</p>\n",
       "</div>"
      ],
      "text/plain": [
       "   RowId       Airline Name  Overall_Rating  \\\n",
       "0      0         Aer Lingus               2   \n",
       "1      1         Air France              10   \n",
       "2      2          Air India               3   \n",
       "3      3  Air India Express               1   \n",
       "4      4          AirAsia X               2   \n",
       "\n",
       "                         Review_Title Review Date  Verified  \\\n",
       "0         “terrible customer service”  2025-03-26     False   \n",
       "1        \"excellent customer service\"  2025-03-28      True   \n",
       "2  “it was not a pleasant experience”  2025-03-26     False   \n",
       "3    \"not accountable for any damage\"  2025-03-23      True   \n",
       "4      \"flight is delay for 20 hours\"  2025-03-24      True   \n",
       "\n",
       "                                              Review  \\\n",
       "0   Absolutely terrible customer service. Tried t...   \n",
       "1     My son was travelling on Kids Solo as an un...   \n",
       "2   Recently travelled on Air India flight from T...   \n",
       "3     No proper communication and very casual app...   \n",
       "4     Worse experience, my flight suppose to depa...   \n",
       "\n",
       "                                Top Review Image Url Aircraft  \\\n",
       "0                                                NaN      NaN   \n",
       "1                                                NaN      NaN   \n",
       "2                                                NaN      NaN   \n",
       "3  https://www.airlinequality.com/wp-content/uplo...      NaN   \n",
       "4                                                NaN      NaN   \n",
       "\n",
       "  Type Of Traveller  ...                               Route Date Flown  \\\n",
       "0    Couple Leisure  ...                     Paris to Dublin 2025-03-01   \n",
       "1    Family Leisure  ...                 Dublin to Singapore 2025-03-01   \n",
       "2    Family Leisure  ...                Toronto to New Delhi 2025-03-01   \n",
       "3    Family Leisure  ...                     Cochin to Delhi 2025-03-01   \n",
       "4          Business  ...  Amritsar to Perth via Kuala Lumpur 2025-03-01   \n",
       "\n",
       "  Seat Comfort  Cabin Staff Service  Food & Beverages  Ground Service  \\\n",
       "0          2.0                  3.0               3.0             1.0   \n",
       "1          NaN                  NaN               NaN             5.0   \n",
       "2          1.0                  3.0               1.0             4.0   \n",
       "3          1.0                  1.0               1.0             1.0   \n",
       "4          1.0                  1.0               1.0             1.0   \n",
       "\n",
       "   Inflight Entertainment  Wifi & Connectivity  Value For Money  Recommended  \n",
       "0                     NaN                  3.0                1           no  \n",
       "1                     NaN                  NaN                5          yes  \n",
       "2                     1.0                  1.0                1           no  \n",
       "3                     1.0                  1.0                1           no  \n",
       "4                     NaN                  NaN                1           no  \n",
       "\n",
       "[5 rows x 21 columns]"
      ]
     },
     "execution_count": 120,
     "metadata": {},
     "output_type": "execute_result"
    }
   ],
   "source": [
    "df['Review Date'] = pd.to_datetime(df['Review Date'], format=\"mixed\")\n",
    "df['Date Flown'] = pd.to_datetime(df['Date Flown'], format=\"mixed\")\n",
    "print(len(df))\n",
    "df.head()"
   ]
  },
  {
   "cell_type": "markdown",
   "id": "db53984f-ca5e-4653-a529-d28a965c3e40",
   "metadata": {},
   "source": [
    "#### EDA & Check for Nulls (especially for needed key fields)"
   ]
  },
  {
   "cell_type": "code",
   "execution_count": 123,
   "id": "edf51925-8348-4c31-afa8-95f470d1c48a",
   "metadata": {
    "execution": {
     "iopub.execute_input": "2025-03-29T01:28:46.852943Z",
     "iopub.status.busy": "2025-03-29T01:28:46.852213Z",
     "iopub.status.idle": "2025-03-29T01:28:46.869581Z",
     "shell.execute_reply": "2025-03-29T01:28:46.869059Z",
     "shell.execute_reply.started": "2025-03-29T01:28:46.852911Z"
    }
   },
   "outputs": [
    {
     "name": "stdout",
     "output_type": "stream",
     "text": [
      "<class 'pandas.core.frame.DataFrame'>\n",
      "RangeIndex: 52 entries, 0 to 51\n",
      "Data columns (total 21 columns):\n",
      " #   Column                  Non-Null Count  Dtype         \n",
      "---  ------                  --------------  -----         \n",
      " 0   RowId                   52 non-null     int64         \n",
      " 1   Airline Name            52 non-null     object        \n",
      " 2   Overall_Rating          52 non-null     int64         \n",
      " 3   Review_Title            52 non-null     object        \n",
      " 4   Review Date             52 non-null     datetime64[ns]\n",
      " 5   Verified                52 non-null     bool          \n",
      " 6   Review                  52 non-null     object        \n",
      " 7   Top Review Image Url    8 non-null      object        \n",
      " 8   Aircraft                15 non-null     object        \n",
      " 9   Type Of Traveller       52 non-null     object        \n",
      " 10  Seat Type               52 non-null     object        \n",
      " 11  Route                   52 non-null     object        \n",
      " 12  Date Flown              52 non-null     datetime64[ns]\n",
      " 13  Seat Comfort            50 non-null     float64       \n",
      " 14  Cabin Staff Service     49 non-null     float64       \n",
      " 15  Food & Beverages        34 non-null     float64       \n",
      " 16  Ground Service          51 non-null     float64       \n",
      " 17  Inflight Entertainment  28 non-null     float64       \n",
      " 18  Wifi & Connectivity     22 non-null     float64       \n",
      " 19  Value For Money         52 non-null     int64         \n",
      " 20  Recommended             52 non-null     object        \n",
      "dtypes: bool(1), datetime64[ns](2), float64(6), int64(3), object(9)\n",
      "memory usage: 8.3+ KB\n"
     ]
    }
   ],
   "source": [
    "# Examine nulls (first pass)\n",
    "df.info()"
   ]
  },
  {
   "cell_type": "code",
   "execution_count": 125,
   "id": "36e0445f-142b-4705-aa8b-811c80b07c9a",
   "metadata": {
    "execution": {
     "iopub.execute_input": "2025-03-29T01:28:47.703834Z",
     "iopub.status.busy": "2025-03-29T01:28:47.702949Z",
     "iopub.status.idle": "2025-03-29T01:28:47.715345Z",
     "shell.execute_reply": "2025-03-29T01:28:47.714593Z",
     "shell.execute_reply.started": "2025-03-29T01:28:47.703797Z"
    }
   },
   "outputs": [],
   "source": [
    "# Replace any empty string columns with actual nulls\n",
    "df = df.replace(r'^\\s+$', np.nan, regex=True)"
   ]
  },
  {
   "cell_type": "markdown",
   "id": "5f525a88-32ec-4b55-a824-1ba4042519ee",
   "metadata": {
    "execution": {
     "iopub.execute_input": "2025-03-28T17:13:05.281235Z",
     "iopub.status.busy": "2025-03-28T17:13:05.280591Z",
     "iopub.status.idle": "2025-03-28T17:13:05.285682Z",
     "shell.execute_reply": "2025-03-28T17:13:05.284663Z",
     "shell.execute_reply.started": "2025-03-28T17:13:05.281184Z"
    }
   },
   "source": [
    "#### Replace Overall_Rating 'n' with null, Cast as float"
   ]
  },
  {
   "cell_type": "code",
   "execution_count": 128,
   "id": "e17be6a5-9e17-49ba-9ab5-13ef78f6ec63",
   "metadata": {
    "execution": {
     "iopub.execute_input": "2025-03-29T01:28:49.811037Z",
     "iopub.status.busy": "2025-03-29T01:28:49.810569Z",
     "iopub.status.idle": "2025-03-29T01:28:49.821806Z",
     "shell.execute_reply": "2025-03-29T01:28:49.820540Z",
     "shell.execute_reply.started": "2025-03-29T01:28:49.811004Z"
    }
   },
   "outputs": [],
   "source": [
    "df[df['Overall_Rating'] == 'n']\n",
    "df['Overall_Rating'] = df['Overall_Rating'].replace('n', np.nan).astype(float)"
   ]
  },
  {
   "cell_type": "code",
   "execution_count": 130,
   "id": "7a992403-a662-41d4-8f6d-ad9641d52d34",
   "metadata": {
    "execution": {
     "iopub.execute_input": "2025-03-29T01:28:50.483630Z",
     "iopub.status.busy": "2025-03-29T01:28:50.482807Z",
     "iopub.status.idle": "2025-03-29T01:28:50.499082Z",
     "shell.execute_reply": "2025-03-29T01:28:50.498321Z",
     "shell.execute_reply.started": "2025-03-29T01:28:50.483594Z"
    }
   },
   "outputs": [
    {
     "data": {
      "text/html": [
       "<div>\n",
       "<style scoped>\n",
       "    .dataframe tbody tr th:only-of-type {\n",
       "        vertical-align: middle;\n",
       "    }\n",
       "\n",
       "    .dataframe tbody tr th {\n",
       "        vertical-align: top;\n",
       "    }\n",
       "\n",
       "    .dataframe thead th {\n",
       "        text-align: right;\n",
       "    }\n",
       "</style>\n",
       "<table border=\"1\" class=\"dataframe\">\n",
       "  <thead>\n",
       "    <tr style=\"text-align: right;\">\n",
       "      <th></th>\n",
       "      <th>RowId</th>\n",
       "      <th>Airline Name</th>\n",
       "      <th>Overall_Rating</th>\n",
       "      <th>Review_Title</th>\n",
       "      <th>Review Date</th>\n",
       "      <th>Verified</th>\n",
       "      <th>Review</th>\n",
       "      <th>Top Review Image Url</th>\n",
       "      <th>Aircraft</th>\n",
       "      <th>Type Of Traveller</th>\n",
       "      <th>...</th>\n",
       "      <th>Route</th>\n",
       "      <th>Date Flown</th>\n",
       "      <th>Seat Comfort</th>\n",
       "      <th>Cabin Staff Service</th>\n",
       "      <th>Food &amp; Beverages</th>\n",
       "      <th>Ground Service</th>\n",
       "      <th>Inflight Entertainment</th>\n",
       "      <th>Wifi &amp; Connectivity</th>\n",
       "      <th>Value For Money</th>\n",
       "      <th>Recommended</th>\n",
       "    </tr>\n",
       "  </thead>\n",
       "  <tbody>\n",
       "  </tbody>\n",
       "</table>\n",
       "<p>0 rows × 21 columns</p>\n",
       "</div>"
      ],
      "text/plain": [
       "Empty DataFrame\n",
       "Columns: [RowId, Airline Name, Overall_Rating, Review_Title, Review Date, Verified, Review, Top Review Image Url, Aircraft, Type Of Traveller, Seat Type, Route, Date Flown, Seat Comfort, Cabin Staff Service, Food & Beverages, Ground Service, Inflight Entertainment, Wifi & Connectivity, Value For Money, Recommended]\n",
       "Index: []\n",
       "\n",
       "[0 rows x 21 columns]"
      ]
     },
     "execution_count": 130,
     "metadata": {},
     "output_type": "execute_result"
    }
   ],
   "source": [
    "df[df['Overall_Rating'] == 'n']"
   ]
  },
  {
   "cell_type": "markdown",
   "id": "190c3f51-2c22-4563-a9ec-a905af95ea90",
   "metadata": {},
   "source": [
    "#### Add Unique Id"
   ]
  },
  {
   "cell_type": "code",
   "execution_count": 133,
   "id": "24d21c82-e617-4855-9c86-2380e1d56de3",
   "metadata": {
    "execution": {
     "iopub.execute_input": "2025-03-29T01:28:52.127457Z",
     "iopub.status.busy": "2025-03-29T01:28:52.126848Z",
     "iopub.status.idle": "2025-03-29T01:28:52.132573Z",
     "shell.execute_reply": "2025-03-29T01:28:52.131469Z",
     "shell.execute_reply.started": "2025-03-29T01:28:52.127408Z"
    }
   },
   "outputs": [],
   "source": [
    "def generate_hash(row):\n",
    "    value = f\"{row['Airline Name']}|{row['Review_Title']}|{row['Review Date']}\"\n",
    "    return hashlib.sha256(value.encode()).hexdigest()"
   ]
  },
  {
   "cell_type": "code",
   "execution_count": 135,
   "id": "5a082916-5437-4279-806a-1ac8b710e087",
   "metadata": {
    "execution": {
     "iopub.execute_input": "2025-03-29T01:28:52.969236Z",
     "iopub.status.busy": "2025-03-29T01:28:52.968711Z",
     "iopub.status.idle": "2025-03-29T01:28:52.979979Z",
     "shell.execute_reply": "2025-03-29T01:28:52.978917Z",
     "shell.execute_reply.started": "2025-03-29T01:28:52.969196Z"
    }
   },
   "outputs": [],
   "source": [
    "df['Id'] = df.apply(generate_hash, axis=1)"
   ]
  },
  {
   "cell_type": "code",
   "execution_count": 137,
   "id": "ce8e5f9f-ea5c-4078-a1b8-adbb554eda71",
   "metadata": {
    "execution": {
     "iopub.execute_input": "2025-03-29T01:28:53.649117Z",
     "iopub.status.busy": "2025-03-29T01:28:53.648577Z",
     "iopub.status.idle": "2025-03-29T01:28:53.660054Z",
     "shell.execute_reply": "2025-03-29T01:28:53.659085Z",
     "shell.execute_reply.started": "2025-03-29T01:28:53.649081Z"
    }
   },
   "outputs": [
    {
     "name": "stdout",
     "output_type": "stream",
     "text": [
      "<class 'pandas.core.frame.DataFrame'>\n",
      "RangeIndex: 52 entries, 0 to 51\n",
      "Data columns (total 22 columns):\n",
      " #   Column                  Non-Null Count  Dtype         \n",
      "---  ------                  --------------  -----         \n",
      " 0   RowId                   52 non-null     int64         \n",
      " 1   Airline Name            52 non-null     object        \n",
      " 2   Overall_Rating          52 non-null     float64       \n",
      " 3   Review_Title            52 non-null     object        \n",
      " 4   Review Date             52 non-null     datetime64[ns]\n",
      " 5   Verified                52 non-null     bool          \n",
      " 6   Review                  52 non-null     object        \n",
      " 7   Top Review Image Url    8 non-null      object        \n",
      " 8   Aircraft                15 non-null     object        \n",
      " 9   Type Of Traveller       52 non-null     object        \n",
      " 10  Seat Type               52 non-null     object        \n",
      " 11  Route                   52 non-null     object        \n",
      " 12  Date Flown              52 non-null     datetime64[ns]\n",
      " 13  Seat Comfort            50 non-null     float64       \n",
      " 14  Cabin Staff Service     49 non-null     float64       \n",
      " 15  Food & Beverages        34 non-null     float64       \n",
      " 16  Ground Service          51 non-null     float64       \n",
      " 17  Inflight Entertainment  28 non-null     float64       \n",
      " 18  Wifi & Connectivity     22 non-null     float64       \n",
      " 19  Value For Money         52 non-null     int64         \n",
      " 20  Recommended             52 non-null     object        \n",
      " 21  Id                      52 non-null     object        \n",
      "dtypes: bool(1), datetime64[ns](2), float64(7), int64(2), object(10)\n",
      "memory usage: 8.7+ KB\n"
     ]
    }
   ],
   "source": [
    "# Re-examine nulls (after converting empty string to nulls)\n",
    "df.info()"
   ]
  },
  {
   "cell_type": "markdown",
   "id": "e62a3281-0d1e-4f5c-8b63-ad693451bbf8",
   "metadata": {
    "execution": {
     "iopub.execute_input": "2025-03-25T04:36:39.410773Z",
     "iopub.status.busy": "2025-03-25T04:36:39.410081Z",
     "iopub.status.idle": "2025-03-25T04:36:39.419154Z",
     "shell.execute_reply": "2025-03-25T04:36:39.417766Z",
     "shell.execute_reply.started": "2025-03-25T04:36:39.410721Z"
    }
   },
   "source": [
    "Key columns needed do not have nulls"
   ]
  },
  {
   "cell_type": "markdown",
   "id": "6b3cdb80-30d2-4a9f-97a8-76fb45aba6b0",
   "metadata": {},
   "source": [
    "#### Persist to CSV file"
   ]
  },
  {
   "cell_type": "code",
   "execution_count": 141,
   "id": "d90631b1-e143-4529-9a9a-02f0c24ffbea",
   "metadata": {
    "execution": {
     "iopub.execute_input": "2025-03-29T01:28:56.719301Z",
     "iopub.status.busy": "2025-03-29T01:28:56.718836Z",
     "iopub.status.idle": "2025-03-29T01:28:56.729540Z",
     "shell.execute_reply": "2025-03-29T01:28:56.728742Z",
     "shell.execute_reply.started": "2025-03-29T01:28:56.719268Z"
    }
   },
   "outputs": [],
   "source": [
    "df.to_csv(f\"data/silver_{ETL_DATE}_Airline_Reviews_Preprocessed.csv\", index=False, date_format='%Y-%m-%d')"
   ]
  },
  {
   "cell_type": "code",
   "execution_count": null,
   "id": "5cbdabd9-9ee6-4402-9fb7-ca587987fb93",
   "metadata": {},
   "outputs": [],
   "source": []
  }
 ],
 "metadata": {
  "kernelspec": {
   "display_name": "Python [conda env:base] *",
   "language": "python",
   "name": "conda-base-py"
  },
  "language_info": {
   "codemirror_mode": {
    "name": "ipython",
    "version": 3
   },
   "file_extension": ".py",
   "mimetype": "text/x-python",
   "name": "python",
   "nbconvert_exporter": "python",
   "pygments_lexer": "ipython3",
   "version": "3.12.7"
  }
 },
 "nbformat": 4,
 "nbformat_minor": 5
}
